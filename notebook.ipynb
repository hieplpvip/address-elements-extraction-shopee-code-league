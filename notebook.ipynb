{
 "cells": [
  {
   "cell_type": "code",
   "execution_count": 1,
   "metadata": {},
   "outputs": [],
   "source": [
    "from transformers import *\n",
    "from fastai.text.all import *\n",
    "\n",
    "from blurr.data.all import *\n",
    "from blurr.modeling.all import *\n",
    "\n",
    "import pandas as pd\n",
    "pd.options.mode.chained_assignment = None\n",
    "\n",
    "from sklearn.model_selection import train_test_split\n",
    "\n",
    "SEED = 42\n",
    "set_seed(SEED)"
   ]
  },
  {
   "cell_type": "markdown",
   "metadata": {
    "papermill": {
     "duration": 0.036644,
     "end_time": "2021-03-28T19:04:49.937547",
     "exception": false,
     "start_time": "2021-03-28T19:04:49.900903",
     "status": "completed"
    },
    "tags": []
   },
   "source": [
    "# Prepare data\n",
    "- Format the data into **tokens** and **labels** for **Named Entity Recognition (NER)** task\n",
    "- Labels are heavily categorised to give the most useful data to the model: ['B-POI', 'B-POI-SHORT', 'B-STR', 'B-STR-SHORT', 'E-POI', 'E-POI-SHORT', 'E-STR', 'E-STR-SHORT', 'I-POI', 'I-POI-SHORT', 'I-STR', 'I-STR-SHORT', 'O', 'S-POI', 'S-POI-SHORT', 'S-STR', 'S-STR-SHORT']\n",
    "- **IOBES** tagging scheme is used for both **POI** and **STR**\n",
    "- An additional tag **SHORT** is used to label words that are **incomplete** and need to be fixed using a **prebuilt one-one dictionary wordlist** \n",
    "- Simple data augmentation is also used to increase the size of the training data (completing, swapping, etc.)"
   ]
  },
  {
   "cell_type": "code",
   "execution_count": 2,
   "metadata": {
    "_cell_guid": "b1076dfc-b9ad-4769-8c92-a6c4dae69d19",
    "_uuid": "8f2839f25d086af736a60e9eeb907d3b93b6e0e5",
    "papermill": {
     "duration": 0.840058,
     "end_time": "2021-03-28T19:04:50.811126",
     "exception": false,
     "start_time": "2021-03-28T19:04:49.971068",
     "status": "completed"
    },
    "tags": []
   },
   "outputs": [],
   "source": [
    "df = pd.read_csv('data/train.csv')"
   ]
  },
  {
   "cell_type": "code",
   "execution_count": 3,
   "metadata": {
    "papermill": {
     "duration": 0.964847,
     "end_time": "2021-03-28T19:04:51.811219",
     "exception": false,
     "start_time": "2021-03-28T19:04:50.846372",
     "status": "completed"
    },
    "tags": []
   },
   "outputs": [],
   "source": [
    "train_df, test_df = train_test_split(df, test_size=0.15, random_state=75)"
   ]
  },
  {
   "cell_type": "code",
   "execution_count": 4,
   "metadata": {
    "papermill": {
     "duration": 0.438586,
     "end_time": "2021-03-28T19:04:52.283958",
     "exception": false,
     "start_time": "2021-03-28T19:04:51.845372",
     "status": "completed"
    },
    "tags": []
   },
   "outputs": [],
   "source": [
    "# train on full dataset\n",
    "train_df = pd.read_csv('data/train.csv')"
   ]
  },
  {
   "cell_type": "code",
   "execution_count": 5,
   "metadata": {
    "papermill": {
     "duration": 0.057759,
     "end_time": "2021-03-28T19:04:52.375636",
     "exception": false,
     "start_time": "2021-03-28T19:04:52.317877",
     "status": "completed"
    },
    "tags": []
   },
   "outputs": [
    {
     "data": {
      "text/plain": [
       "(300000, 45000)"
      ]
     },
     "execution_count": 5,
     "metadata": {},
     "output_type": "execute_result"
    }
   ],
   "source": [
    "len(train_df), len(test_df)"
   ]
  },
  {
   "cell_type": "code",
   "execution_count": 6,
   "metadata": {
    "papermill": {
     "duration": 0.048302,
     "end_time": "2021-03-28T19:04:52.477837",
     "exception": false,
     "start_time": "2021-03-28T19:04:52.429535",
     "status": "completed"
    },
    "tags": []
   },
   "outputs": [],
   "source": [
    "from string import punctuation\n",
    "import re\n",
    "\n",
    "def clean(s):\n",
    "    res = re.sub(r'(\\w)(\\()(\\w)', '\\g<1> \\g<2>\\g<3>', s)\n",
    "    res = re.sub(r'(\\w)([),.:;]+)(\\w)', '\\g<1>\\g<2> \\g<3>', res)\n",
    "    res = re.sub(r'(\\w)(\\.\\()(\\w)', '\\g<1>. (\\g<3>', res)\n",
    "    res = re.sub(r'\\s+', ' ', res)\n",
    "    res = res.strip()\n",
    "    return res\n",
    "\n",
    "def stripclean(arr):\n",
    "    return [s.strip().strip(punctuation) for s in arr]\n",
    "\n",
    "def dummy(x):\n",
    "    # stupid workaround to deep copy array cause i couldn't get it to work properly\n",
    "    return [s for s in x]"
   ]
  },
  {
   "cell_type": "code",
   "execution_count": 7,
   "metadata": {
    "papermill": {
     "duration": 21.631955,
     "end_time": "2021-03-28T19:05:14.145949",
     "exception": false,
     "start_time": "2021-03-28T19:04:52.513994",
     "status": "completed"
    },
    "tags": []
   },
   "outputs": [],
   "source": [
    "train_df['raw_address'] = train_df['raw_address'].apply(lambda x: x.strip())\n",
    "train_df['POI'] = train_df['POI/street'].str.split('/').str[0].apply(clean).str.split().apply(stripclean)\n",
    "train_df['STR'] = train_df['POI/street'].str.split('/').str[1].apply(clean).str.split().apply(stripclean)\n",
    "train_df['tokens'] = train_df['raw_address'].apply(clean).str.split()\n",
    "train_df['strip_tokens'] = train_df['tokens'].apply(stripclean)\n",
    "train_df['full_tokens'] = train_df['tokens'].apply(dummy)\n",
    "train_df['labels'] = train_df['tokens'].apply(lambda x: ['O'] * len(x))\n",
    "train_df['pos_poi'] = train_df['tokens'].apply(lambda x: [-1, -1])\n",
    "train_df['pos_str'] = train_df['tokens'].apply(lambda x: [-1, -1])"
   ]
  },
  {
   "cell_type": "code",
   "execution_count": 8,
   "metadata": {
    "papermill": {
     "duration": 0.065814,
     "end_time": "2021-03-28T19:05:14.246110",
     "exception": false,
     "start_time": "2021-03-28T19:05:14.180296",
     "status": "completed"
    },
    "tags": []
   },
   "outputs": [
    {
     "data": {
      "text/html": [
       "<div>\n",
       "<style scoped>\n",
       "    .dataframe tbody tr th:only-of-type {\n",
       "        vertical-align: middle;\n",
       "    }\n",
       "\n",
       "    .dataframe tbody tr th {\n",
       "        vertical-align: top;\n",
       "    }\n",
       "\n",
       "    .dataframe thead th {\n",
       "        text-align: right;\n",
       "    }\n",
       "</style>\n",
       "<table border=\"1\" class=\"dataframe\">\n",
       "  <thead>\n",
       "    <tr style=\"text-align: right;\">\n",
       "      <th></th>\n",
       "      <th>id</th>\n",
       "      <th>raw_address</th>\n",
       "      <th>POI/street</th>\n",
       "      <th>POI</th>\n",
       "      <th>STR</th>\n",
       "      <th>tokens</th>\n",
       "      <th>strip_tokens</th>\n",
       "      <th>full_tokens</th>\n",
       "      <th>labels</th>\n",
       "      <th>pos_poi</th>\n",
       "      <th>pos_str</th>\n",
       "    </tr>\n",
       "  </thead>\n",
       "  <tbody>\n",
       "    <tr>\n",
       "      <th>0</th>\n",
       "      <td>0</td>\n",
       "      <td>jl kapuk timur delta sili iii lippo cika 11 a cicau cikarang pusat</td>\n",
       "      <td>/jl kapuk timur delta sili iii lippo cika</td>\n",
       "      <td>[]</td>\n",
       "      <td>[jl, kapuk, timur, delta, sili, iii, lippo, cika]</td>\n",
       "      <td>[jl, kapuk, timur, delta, sili, iii, lippo, cika, 11, a, cicau, cikarang, pusat]</td>\n",
       "      <td>[jl, kapuk, timur, delta, sili, iii, lippo, cika, 11, a, cicau, cikarang, pusat]</td>\n",
       "      <td>[jl, kapuk, timur, delta, sili, iii, lippo, cika, 11, a, cicau, cikarang, pusat]</td>\n",
       "      <td>[O, O, O, O, O, O, O, O, O, O, O, O, O]</td>\n",
       "      <td>[-1, -1]</td>\n",
       "      <td>[-1, -1]</td>\n",
       "    </tr>\n",
       "    <tr>\n",
       "      <th>1</th>\n",
       "      <td>1</td>\n",
       "      <td>aye, jati sampurna</td>\n",
       "      <td>/</td>\n",
       "      <td>[]</td>\n",
       "      <td>[]</td>\n",
       "      <td>[aye,, jati, sampurna]</td>\n",
       "      <td>[aye, jati, sampurna]</td>\n",
       "      <td>[aye,, jati, sampurna]</td>\n",
       "      <td>[O, O, O]</td>\n",
       "      <td>[-1, -1]</td>\n",
       "      <td>[-1, -1]</td>\n",
       "    </tr>\n",
       "    <tr>\n",
       "      <th>2</th>\n",
       "      <td>2</td>\n",
       "      <td>setu siung 119 rt 5 1 13880 cipayung</td>\n",
       "      <td>/siung</td>\n",
       "      <td>[]</td>\n",
       "      <td>[siung]</td>\n",
       "      <td>[setu, siung, 119, rt, 5, 1, 13880, cipayung]</td>\n",
       "      <td>[setu, siung, 119, rt, 5, 1, 13880, cipayung]</td>\n",
       "      <td>[setu, siung, 119, rt, 5, 1, 13880, cipayung]</td>\n",
       "      <td>[O, O, O, O, O, O, O, O]</td>\n",
       "      <td>[-1, -1]</td>\n",
       "      <td>[-1, -1]</td>\n",
       "    </tr>\n",
       "    <tr>\n",
       "      <th>3</th>\n",
       "      <td>3</td>\n",
       "      <td>toko dita, kertosono</td>\n",
       "      <td>toko dita/</td>\n",
       "      <td>[toko, dita]</td>\n",
       "      <td>[]</td>\n",
       "      <td>[toko, dita,, kertosono]</td>\n",
       "      <td>[toko, dita, kertosono]</td>\n",
       "      <td>[toko, dita,, kertosono]</td>\n",
       "      <td>[O, O, O]</td>\n",
       "      <td>[-1, -1]</td>\n",
       "      <td>[-1, -1]</td>\n",
       "    </tr>\n",
       "    <tr>\n",
       "      <th>4</th>\n",
       "      <td>4</td>\n",
       "      <td>jl. orde baru</td>\n",
       "      <td>/jl. orde baru</td>\n",
       "      <td>[]</td>\n",
       "      <td>[jl, orde, baru]</td>\n",
       "      <td>[jl., orde, baru]</td>\n",
       "      <td>[jl, orde, baru]</td>\n",
       "      <td>[jl., orde, baru]</td>\n",
       "      <td>[O, O, O]</td>\n",
       "      <td>[-1, -1]</td>\n",
       "      <td>[-1, -1]</td>\n",
       "    </tr>\n",
       "  </tbody>\n",
       "</table>\n",
       "</div>"
      ],
      "text/plain": [
       "   id                                                         raw_address  \\\n",
       "0   0  jl kapuk timur delta sili iii lippo cika 11 a cicau cikarang pusat   \n",
       "1   1                                                  aye, jati sampurna   \n",
       "2   2                                setu siung 119 rt 5 1 13880 cipayung   \n",
       "3   3                                                toko dita, kertosono   \n",
       "4   4                                                       jl. orde baru   \n",
       "\n",
       "                                  POI/street           POI  \\\n",
       "0  /jl kapuk timur delta sili iii lippo cika            []   \n",
       "1                                          /            []   \n",
       "2                                     /siung            []   \n",
       "3                                 toko dita/  [toko, dita]   \n",
       "4                             /jl. orde baru            []   \n",
       "\n",
       "                                                 STR  \\\n",
       "0  [jl, kapuk, timur, delta, sili, iii, lippo, cika]   \n",
       "1                                                 []   \n",
       "2                                            [siung]   \n",
       "3                                                 []   \n",
       "4                                   [jl, orde, baru]   \n",
       "\n",
       "                                                                             tokens  \\\n",
       "0  [jl, kapuk, timur, delta, sili, iii, lippo, cika, 11, a, cicau, cikarang, pusat]   \n",
       "1                                                            [aye,, jati, sampurna]   \n",
       "2                                     [setu, siung, 119, rt, 5, 1, 13880, cipayung]   \n",
       "3                                                          [toko, dita,, kertosono]   \n",
       "4                                                                 [jl., orde, baru]   \n",
       "\n",
       "                                                                       strip_tokens  \\\n",
       "0  [jl, kapuk, timur, delta, sili, iii, lippo, cika, 11, a, cicau, cikarang, pusat]   \n",
       "1                                                             [aye, jati, sampurna]   \n",
       "2                                     [setu, siung, 119, rt, 5, 1, 13880, cipayung]   \n",
       "3                                                           [toko, dita, kertosono]   \n",
       "4                                                                  [jl, orde, baru]   \n",
       "\n",
       "                                                                        full_tokens  \\\n",
       "0  [jl, kapuk, timur, delta, sili, iii, lippo, cika, 11, a, cicau, cikarang, pusat]   \n",
       "1                                                            [aye,, jati, sampurna]   \n",
       "2                                     [setu, siung, 119, rt, 5, 1, 13880, cipayung]   \n",
       "3                                                          [toko, dita,, kertosono]   \n",
       "4                                                                 [jl., orde, baru]   \n",
       "\n",
       "                                    labels   pos_poi   pos_str  \n",
       "0  [O, O, O, O, O, O, O, O, O, O, O, O, O]  [-1, -1]  [-1, -1]  \n",
       "1                                [O, O, O]  [-1, -1]  [-1, -1]  \n",
       "2                 [O, O, O, O, O, O, O, O]  [-1, -1]  [-1, -1]  \n",
       "3                                [O, O, O]  [-1, -1]  [-1, -1]  \n",
       "4                                [O, O, O]  [-1, -1]  [-1, -1]  "
      ]
     },
     "execution_count": 8,
     "metadata": {},
     "output_type": "execute_result"
    }
   ],
   "source": [
    "train_df.head()"
   ]
  },
  {
   "cell_type": "code",
   "execution_count": 9,
   "metadata": {
    "papermill": {
     "duration": 1.166675,
     "end_time": "2021-03-28T19:05:15.446994",
     "exception": false,
     "start_time": "2021-03-28T19:05:14.280319",
     "status": "completed"
    },
    "tags": []
   },
   "outputs": [],
   "source": [
    "test_df['raw_address'] = test_df['raw_address'].apply(lambda x: x.strip())\n",
    "test_df['tokens'] = test_df['raw_address'].apply(clean).str.split()"
   ]
  },
  {
   "cell_type": "code",
   "execution_count": 10,
   "metadata": {
    "papermill": {
     "duration": 0.049027,
     "end_time": "2021-03-28T19:05:15.532456",
     "exception": false,
     "start_time": "2021-03-28T19:05:15.483429",
     "status": "completed"
    },
    "tags": []
   },
   "outputs": [
    {
     "data": {
      "text/html": [
       "<div>\n",
       "<style scoped>\n",
       "    .dataframe tbody tr th:only-of-type {\n",
       "        vertical-align: middle;\n",
       "    }\n",
       "\n",
       "    .dataframe tbody tr th {\n",
       "        vertical-align: top;\n",
       "    }\n",
       "\n",
       "    .dataframe thead th {\n",
       "        text-align: right;\n",
       "    }\n",
       "</style>\n",
       "<table border=\"1\" class=\"dataframe\">\n",
       "  <thead>\n",
       "    <tr style=\"text-align: right;\">\n",
       "      <th></th>\n",
       "      <th>id</th>\n",
       "      <th>raw_address</th>\n",
       "      <th>POI/street</th>\n",
       "      <th>tokens</th>\n",
       "    </tr>\n",
       "  </thead>\n",
       "  <tbody>\n",
       "    <tr>\n",
       "      <th>90142</th>\n",
       "      <td>90142</td>\n",
       "      <td>lom 88 asrikaton</td>\n",
       "      <td>/</td>\n",
       "      <td>[lom, 88, asrikaton]</td>\n",
       "    </tr>\n",
       "    <tr>\n",
       "      <th>163531</th>\n",
       "      <td>163531</td>\n",
       "      <td>varia usaha ungaran, peri kem pudakpayung</td>\n",
       "      <td>/</td>\n",
       "      <td>[varia, usaha, ungaran,, peri, kem, pudakpayung]</td>\n",
       "    </tr>\n",
       "    <tr>\n",
       "      <th>233950</th>\n",
       "      <td>233950</td>\n",
       "      <td>hutan gar no 7 20371 percut sei tuan</td>\n",
       "      <td>/gar</td>\n",
       "      <td>[hutan, gar, no, 7, 20371, percut, sei, tuan]</td>\n",
       "    </tr>\n",
       "    <tr>\n",
       "      <th>126157</th>\n",
       "      <td>126157</td>\n",
       "      <td>wardah gor srik ton,</td>\n",
       "      <td>wardah gorden/srik ton</td>\n",
       "      <td>[wardah, gor, srik, ton,]</td>\n",
       "    </tr>\n",
       "    <tr>\n",
       "      <th>96808</th>\n",
       "      <td>96808</td>\n",
       "      <td>green puri 7 cengkareng</td>\n",
       "      <td>/green puri 7</td>\n",
       "      <td>[green, puri, 7, cengkareng]</td>\n",
       "    </tr>\n",
       "  </tbody>\n",
       "</table>\n",
       "</div>"
      ],
      "text/plain": [
       "            id                                raw_address  \\\n",
       "90142    90142                           lom 88 asrikaton   \n",
       "163531  163531  varia usaha ungaran, peri kem pudakpayung   \n",
       "233950  233950       hutan gar no 7 20371 percut sei tuan   \n",
       "126157  126157                       wardah gor srik ton,   \n",
       "96808    96808                    green puri 7 cengkareng   \n",
       "\n",
       "                    POI/street  \\\n",
       "90142                        /   \n",
       "163531                       /   \n",
       "233950                    /gar   \n",
       "126157  wardah gorden/srik ton   \n",
       "96808            /green puri 7   \n",
       "\n",
       "                                                  tokens  \n",
       "90142                               [lom, 88, asrikaton]  \n",
       "163531  [varia, usaha, ungaran,, peri, kem, pudakpayung]  \n",
       "233950     [hutan, gar, no, 7, 20371, percut, sei, tuan]  \n",
       "126157                         [wardah, gor, srik, ton,]  \n",
       "96808                       [green, puri, 7, cengkareng]  "
      ]
     },
     "execution_count": 10,
     "metadata": {},
     "output_type": "execute_result"
    }
   ],
   "source": [
    "test_df.head()"
   ]
  },
  {
   "cell_type": "markdown",
   "metadata": {
    "papermill": {
     "duration": 0.035355,
     "end_time": "2021-03-28T19:05:15.602934",
     "exception": false,
     "start_time": "2021-03-28T19:05:15.567579",
     "status": "completed"
    },
    "tags": []
   },
   "source": [
    "# Build word list and token labels"
   ]
  },
  {
   "cell_type": "code",
   "execution_count": 11,
   "metadata": {
    "papermill": {
     "duration": 0.042702,
     "end_time": "2021-03-28T19:05:15.681223",
     "exception": false,
     "start_time": "2021-03-28T19:05:15.638521",
     "status": "completed"
    },
    "tags": []
   },
   "outputs": [],
   "source": [
    "wordlist_raw = {}\n",
    "POI_ERR_IDX = []\n",
    "STR_ERR_IDX = []\n",
    "SHORTEN_IDX = []\n",
    "OVERLAP_IDX = set()"
   ]
  },
  {
   "cell_type": "code",
   "execution_count": 12,
   "metadata": {
    "papermill": {
     "duration": 153.409249,
     "end_time": "2021-03-28T19:07:49.125912",
     "exception": false,
     "start_time": "2021-03-28T19:05:15.716663",
     "status": "completed"
    },
    "tags": []
   },
   "outputs": [
    {
     "name": "stderr",
     "output_type": "stream",
     "text": [
      "100%|██████████| 300000/300000 [01:12<00:00, 4112.77it/s]\n"
     ]
    }
   ],
   "source": [
    "from tqdm import tqdm\n",
    "\n",
    "for idx in tqdm(range(len(train_df))):\n",
    "    row = train_df.iloc[idx]\n",
    "    found_poi, found_str, shorten = False, False, False\n",
    "    for i in range(len(row['strip_tokens'])):\n",
    "        if row['strip_tokens'][i] == '': continue\n",
    "        if len(row['POI']) > 0 and row['POI'][0].startswith(row['strip_tokens'][i]):\n",
    "            ok = True\n",
    "            for j in range(len(row['POI'])):\n",
    "                if i + j >= len(row['strip_tokens']) or not row['POI'][j].startswith(row['strip_tokens'][i + j]):\n",
    "                    ok = False\n",
    "                    break\n",
    "            if ok:\n",
    "                found_poi = True\n",
    "                row['pos_poi'][0] = i\n",
    "                row['pos_poi'][1] = i + len(row['POI']) - 1\n",
    "                for j in range(len(row['POI'])):\n",
    "                    if row['labels'][i + j] != 'O':\n",
    "                        OVERLAP_IDX.add(row['id'])\n",
    "                    if len(row['POI']) == 1:       row['labels'][i + j] = 'S-POI'\n",
    "                    elif j == 0:                   row['labels'][i + j] = 'B-POI'\n",
    "                    elif j == len(row['POI']) - 1: row['labels'][i + j] = 'E-POI'\n",
    "                    else:                          row['labels'][i + j] = 'I-POI'\n",
    "                    if row['strip_tokens'][i + j] != row['POI'][j]:\n",
    "                        row['full_tokens'][i + j] = row['full_tokens'][i + j].replace(row['strip_tokens'][i + j], row['POI'][j])\n",
    "                        row['labels'][i + j] += '-SHORT'\n",
    "                        shorten = True\n",
    "                        if not row['strip_tokens'][i + j] in wordlist_raw: wordlist_raw[row['strip_tokens'][i + j]] = {}\n",
    "                        if not row['POI'][j] in wordlist_raw[row['strip_tokens'][i + j]]: wordlist_raw[row['strip_tokens'][i + j]][row['POI'][j]] = 0\n",
    "                        wordlist_raw[row['strip_tokens'][i + j]][row['POI'][j]] += 1\n",
    "        \n",
    "        if len(row['STR']) > 0 and row['STR'][0].startswith(row['strip_tokens'][i]):\n",
    "            ok = True\n",
    "            for j in range(len(row['STR'])):\n",
    "                if i + j >= len(row['strip_tokens']) or not row['STR'][j].startswith(row['strip_tokens'][i + j]):\n",
    "                    ok = False\n",
    "                    break\n",
    "            if ok:\n",
    "                found_str = True\n",
    "                row['pos_str'][0] = i\n",
    "                row['pos_str'][1] = i + len(row['STR']) - 1\n",
    "                for j in range(len(row['STR'])):\n",
    "                    if row['labels'][i + j] != 'O':\n",
    "                        OVERLAP_IDX.add(row['id'])\n",
    "                    if len(row['STR']) == 1:       row['labels'][i + j] = 'S-STR'\n",
    "                    elif j == 0:                   row['labels'][i + j] = 'B-STR'\n",
    "                    elif j == len(row['STR']) - 1: row['labels'][i + j] = 'E-STR'\n",
    "                    else:                          row['labels'][i + j] = 'I-STR'\n",
    "                    if row['strip_tokens'][i + j] != row['STR'][j]:\n",
    "                        row['full_tokens'][i + j] = row['full_tokens'][i + j].replace(row['strip_tokens'][i + j], row['STR'][j])\n",
    "                        row['labels'][i + j] += '-SHORT'\n",
    "                        shorten = True\n",
    "                        if not row['strip_tokens'][i + j] in wordlist_raw: wordlist_raw[row['strip_tokens'][i + j]] = {}\n",
    "                        if not row['STR'][j] in wordlist_raw[row['strip_tokens'][i + j]]: wordlist_raw[row['strip_tokens'][i + j]][row['STR'][j]] = 0\n",
    "                        wordlist_raw[row['strip_tokens'][i + j]][row['STR'][j]] += 1\n",
    "    \n",
    "    if len(row['POI']) > 0 and not found_poi:\n",
    "        POI_ERR_IDX.append(row['id'])\n",
    "    if len(row['STR']) > 0 and not found_str:\n",
    "        STR_ERR_IDX.append(row['id'])\n",
    "    if shorten:\n",
    "        SHORTEN_IDX.append(row['id'])"
   ]
  },
  {
   "cell_type": "code",
   "execution_count": 13,
   "metadata": {
    "papermill": {
     "duration": 0.449972,
     "end_time": "2021-03-28T19:07:49.987606",
     "exception": false,
     "start_time": "2021-03-28T19:07:49.537634",
     "status": "completed"
    },
    "tags": []
   },
   "outputs": [
    {
     "data": {
      "text/plain": [
       "(11825, 196, 96, 59011, 919)"
      ]
     },
     "execution_count": 13,
     "metadata": {},
     "output_type": "execute_result"
    }
   ],
   "source": [
    "len(wordlist_raw), len(POI_ERR_IDX), len(STR_ERR_IDX), len(SHORTEN_IDX), len(OVERLAP_IDX)"
   ]
  },
  {
   "cell_type": "code",
   "execution_count": 14,
   "metadata": {
    "papermill": {
     "duration": 0.581689,
     "end_time": "2021-03-28T19:07:50.979254",
     "exception": false,
     "start_time": "2021-03-28T19:07:50.397565",
     "status": "completed"
    },
    "tags": []
   },
   "outputs": [
    {
     "data": {
      "text/html": [
       "<div>\n",
       "<style scoped>\n",
       "    .dataframe tbody tr th:only-of-type {\n",
       "        vertical-align: middle;\n",
       "    }\n",
       "\n",
       "    .dataframe tbody tr th {\n",
       "        vertical-align: top;\n",
       "    }\n",
       "\n",
       "    .dataframe thead th {\n",
       "        text-align: right;\n",
       "    }\n",
       "</style>\n",
       "<table border=\"1\" class=\"dataframe\">\n",
       "  <thead>\n",
       "    <tr style=\"text-align: right;\">\n",
       "      <th></th>\n",
       "      <th>id</th>\n",
       "      <th>raw_address</th>\n",
       "      <th>POI/street</th>\n",
       "      <th>POI</th>\n",
       "      <th>STR</th>\n",
       "      <th>tokens</th>\n",
       "      <th>strip_tokens</th>\n",
       "      <th>full_tokens</th>\n",
       "      <th>labels</th>\n",
       "      <th>pos_poi</th>\n",
       "      <th>pos_str</th>\n",
       "    </tr>\n",
       "  </thead>\n",
       "  <tbody>\n",
       "    <tr>\n",
       "      <th>10</th>\n",
       "      <td>10</td>\n",
       "      <td>cikahuripan sd neg boj 02 klap boj, no 5 16877</td>\n",
       "      <td>sd negeri bojong 02/klap boj</td>\n",
       "      <td>[sd, negeri, bojong, 02]</td>\n",
       "      <td>[klap, boj]</td>\n",
       "      <td>[cikahuripan, sd, neg, boj, 02, klap, boj,, no, 5, 16877]</td>\n",
       "      <td>[cikahuripan, sd, neg, boj, 02, klap, boj, no, 5, 16877]</td>\n",
       "      <td>[cikahuripan, sd, negeri, bojong, 02, klap, boj,, no, 5, 16877]</td>\n",
       "      <td>[O, B-POI, I-POI-SHORT, I-POI-SHORT, E-POI, B-STR, E-STR, O, O, O]</td>\n",
       "      <td>[1, 4]</td>\n",
       "      <td>[5, 6]</td>\n",
       "    </tr>\n",
       "    <tr>\n",
       "      <th>11</th>\n",
       "      <td>11</td>\n",
       "      <td>yaya atohar,</td>\n",
       "      <td>yayasan atohariyah/</td>\n",
       "      <td>[yayasan, atohariyah]</td>\n",
       "      <td>[]</td>\n",
       "      <td>[yaya, atohar,]</td>\n",
       "      <td>[yaya, atohar]</td>\n",
       "      <td>[yayasan, atohariyah,]</td>\n",
       "      <td>[B-POI-SHORT, E-POI-SHORT]</td>\n",
       "      <td>[0, 1]</td>\n",
       "      <td>[-1, -1]</td>\n",
       "    </tr>\n",
       "    <tr>\n",
       "      <th>20</th>\n",
       "      <td>20</td>\n",
       "      <td>toko bang ajs,</td>\n",
       "      <td>toko bangunan ajs/</td>\n",
       "      <td>[toko, bangunan, ajs]</td>\n",
       "      <td>[]</td>\n",
       "      <td>[toko, bang, ajs,]</td>\n",
       "      <td>[toko, bang, ajs]</td>\n",
       "      <td>[toko, bangunan, ajs,]</td>\n",
       "      <td>[B-POI, I-POI-SHORT, E-POI]</td>\n",
       "      <td>[0, 2]</td>\n",
       "      <td>[-1, -1]</td>\n",
       "    </tr>\n",
       "    <tr>\n",
       "      <th>40</th>\n",
       "      <td>40</td>\n",
       "      <td>mar tabl metro iringmulyo metro timur</td>\n",
       "      <td>markaz tabligh metro/</td>\n",
       "      <td>[markaz, tabligh, metro]</td>\n",
       "      <td>[]</td>\n",
       "      <td>[mar, tabl, metro, iringmulyo, metro, timur]</td>\n",
       "      <td>[mar, tabl, metro, iringmulyo, metro, timur]</td>\n",
       "      <td>[markaz, tabligh, metro, iringmulyo, metro, timur]</td>\n",
       "      <td>[B-POI-SHORT, I-POI-SHORT, E-POI, O, O, O]</td>\n",
       "      <td>[0, 2]</td>\n",
       "      <td>[-1, -1]</td>\n",
       "    </tr>\n",
       "    <tr>\n",
       "      <th>44</th>\n",
       "      <td>44</td>\n",
       "      <td>sd neg 12 anggrek</td>\n",
       "      <td>sd negeri 12 anggrek/</td>\n",
       "      <td>[sd, negeri, 12, anggrek]</td>\n",
       "      <td>[]</td>\n",
       "      <td>[sd, neg, 12, anggrek]</td>\n",
       "      <td>[sd, neg, 12, anggrek]</td>\n",
       "      <td>[sd, negeri, 12, anggrek]</td>\n",
       "      <td>[B-POI, I-POI-SHORT, I-POI, E-POI]</td>\n",
       "      <td>[0, 3]</td>\n",
       "      <td>[-1, -1]</td>\n",
       "    </tr>\n",
       "    <tr>\n",
       "      <th>48</th>\n",
       "      <td>48</td>\n",
       "      <td>rumah makan pela, raya jomb,</td>\n",
       "      <td>rumah makan pelangi/raya jomb</td>\n",
       "      <td>[rumah, makan, pelangi]</td>\n",
       "      <td>[raya, jomb]</td>\n",
       "      <td>[rumah, makan, pela,, raya, jomb,]</td>\n",
       "      <td>[rumah, makan, pela, raya, jomb]</td>\n",
       "      <td>[rumah, makan, pelangi,, raya, jomb,]</td>\n",
       "      <td>[B-POI, I-POI, E-POI-SHORT, B-STR, E-STR]</td>\n",
       "      <td>[0, 2]</td>\n",
       "      <td>[3, 4]</td>\n",
       "    </tr>\n",
       "    <tr>\n",
       "      <th>69</th>\n",
       "      <td>69</td>\n",
       "      <td>cak 11 nagasari karawang barat</td>\n",
       "      <td>/cakrad</td>\n",
       "      <td>[]</td>\n",
       "      <td>[cakrad]</td>\n",
       "      <td>[cak, 11, nagasari, karawang, barat]</td>\n",
       "      <td>[cak, 11, nagasari, karawang, barat]</td>\n",
       "      <td>[cakrad, 11, nagasari, karawang, barat]</td>\n",
       "      <td>[S-STR-SHORT, O, O, O, O]</td>\n",
       "      <td>[-1, -1]</td>\n",
       "      <td>[0, 0]</td>\n",
       "    </tr>\n",
       "    <tr>\n",
       "      <th>74</th>\n",
       "      <td>74</td>\n",
       "      <td>rnd prin, gang pinak, sukarame</td>\n",
       "      <td>rnd printing/gang pinak</td>\n",
       "      <td>[rnd, printing]</td>\n",
       "      <td>[gang, pinak]</td>\n",
       "      <td>[rnd, prin,, gang, pinak,, sukarame]</td>\n",
       "      <td>[rnd, prin, gang, pinak, sukarame]</td>\n",
       "      <td>[rnd, printing,, gang, pinak,, sukarame]</td>\n",
       "      <td>[B-POI, E-POI-SHORT, B-STR, E-STR, O]</td>\n",
       "      <td>[0, 1]</td>\n",
       "      <td>[2, 3]</td>\n",
       "    </tr>\n",
       "    <tr>\n",
       "      <th>76</th>\n",
       "      <td>76</td>\n",
       "      <td>pp minhajutt, kh abdul manan, sumberberas muncar</td>\n",
       "      <td>pp minhajutthollab/kh abdul manan</td>\n",
       "      <td>[pp, minhajutthollab]</td>\n",
       "      <td>[kh, abdul, manan]</td>\n",
       "      <td>[pp, minhajutt,, kh, abdul, manan,, sumberberas, muncar]</td>\n",
       "      <td>[pp, minhajutt, kh, abdul, manan, sumberberas, muncar]</td>\n",
       "      <td>[pp, minhajutthollab,, kh, abdul, manan,, sumberberas, muncar]</td>\n",
       "      <td>[B-POI, E-POI-SHORT, B-STR, I-STR, E-STR, O, O]</td>\n",
       "      <td>[0, 1]</td>\n",
       "      <td>[2, 4]</td>\n",
       "    </tr>\n",
       "    <tr>\n",
       "      <th>77</th>\n",
       "      <td>77</td>\n",
       "      <td>tk islam daruss,</td>\n",
       "      <td>tk islam darussalam/</td>\n",
       "      <td>[tk, islam, darussalam]</td>\n",
       "      <td>[]</td>\n",
       "      <td>[tk, islam, daruss,]</td>\n",
       "      <td>[tk, islam, daruss]</td>\n",
       "      <td>[tk, islam, darussalam,]</td>\n",
       "      <td>[B-POI, I-POI, E-POI-SHORT]</td>\n",
       "      <td>[0, 2]</td>\n",
       "      <td>[-1, -1]</td>\n",
       "    </tr>\n",
       "  </tbody>\n",
       "</table>\n",
       "</div>"
      ],
      "text/plain": [
       "    id                                       raw_address  \\\n",
       "10  10    cikahuripan sd neg boj 02 klap boj, no 5 16877   \n",
       "11  11                                      yaya atohar,   \n",
       "20  20                                    toko bang ajs,   \n",
       "40  40             mar tabl metro iringmulyo metro timur   \n",
       "44  44                                 sd neg 12 anggrek   \n",
       "48  48                      rumah makan pela, raya jomb,   \n",
       "69  69                    cak 11 nagasari karawang barat   \n",
       "74  74                    rnd prin, gang pinak, sukarame   \n",
       "76  76  pp minhajutt, kh abdul manan, sumberberas muncar   \n",
       "77  77                                  tk islam daruss,   \n",
       "\n",
       "                           POI/street                        POI  \\\n",
       "10       sd negeri bojong 02/klap boj   [sd, negeri, bojong, 02]   \n",
       "11                yayasan atohariyah/      [yayasan, atohariyah]   \n",
       "20                 toko bangunan ajs/      [toko, bangunan, ajs]   \n",
       "40              markaz tabligh metro/   [markaz, tabligh, metro]   \n",
       "44              sd negeri 12 anggrek/  [sd, negeri, 12, anggrek]   \n",
       "48      rumah makan pelangi/raya jomb    [rumah, makan, pelangi]   \n",
       "69                            /cakrad                         []   \n",
       "74            rnd printing/gang pinak            [rnd, printing]   \n",
       "76  pp minhajutthollab/kh abdul manan      [pp, minhajutthollab]   \n",
       "77               tk islam darussalam/    [tk, islam, darussalam]   \n",
       "\n",
       "                   STR  \\\n",
       "10         [klap, boj]   \n",
       "11                  []   \n",
       "20                  []   \n",
       "40                  []   \n",
       "44                  []   \n",
       "48        [raya, jomb]   \n",
       "69            [cakrad]   \n",
       "74       [gang, pinak]   \n",
       "76  [kh, abdul, manan]   \n",
       "77                  []   \n",
       "\n",
       "                                                       tokens  \\\n",
       "10  [cikahuripan, sd, neg, boj, 02, klap, boj,, no, 5, 16877]   \n",
       "11                                            [yaya, atohar,]   \n",
       "20                                         [toko, bang, ajs,]   \n",
       "40               [mar, tabl, metro, iringmulyo, metro, timur]   \n",
       "44                                     [sd, neg, 12, anggrek]   \n",
       "48                         [rumah, makan, pela,, raya, jomb,]   \n",
       "69                       [cak, 11, nagasari, karawang, barat]   \n",
       "74                       [rnd, prin,, gang, pinak,, sukarame]   \n",
       "76   [pp, minhajutt,, kh, abdul, manan,, sumberberas, muncar]   \n",
       "77                                       [tk, islam, daruss,]   \n",
       "\n",
       "                                                strip_tokens  \\\n",
       "10  [cikahuripan, sd, neg, boj, 02, klap, boj, no, 5, 16877]   \n",
       "11                                            [yaya, atohar]   \n",
       "20                                         [toko, bang, ajs]   \n",
       "40              [mar, tabl, metro, iringmulyo, metro, timur]   \n",
       "44                                    [sd, neg, 12, anggrek]   \n",
       "48                          [rumah, makan, pela, raya, jomb]   \n",
       "69                      [cak, 11, nagasari, karawang, barat]   \n",
       "74                        [rnd, prin, gang, pinak, sukarame]   \n",
       "76    [pp, minhajutt, kh, abdul, manan, sumberberas, muncar]   \n",
       "77                                       [tk, islam, daruss]   \n",
       "\n",
       "                                                        full_tokens  \\\n",
       "10  [cikahuripan, sd, negeri, bojong, 02, klap, boj,, no, 5, 16877]   \n",
       "11                                           [yayasan, atohariyah,]   \n",
       "20                                           [toko, bangunan, ajs,]   \n",
       "40               [markaz, tabligh, metro, iringmulyo, metro, timur]   \n",
       "44                                        [sd, negeri, 12, anggrek]   \n",
       "48                            [rumah, makan, pelangi,, raya, jomb,]   \n",
       "69                          [cakrad, 11, nagasari, karawang, barat]   \n",
       "74                         [rnd, printing,, gang, pinak,, sukarame]   \n",
       "76   [pp, minhajutthollab,, kh, abdul, manan,, sumberberas, muncar]   \n",
       "77                                         [tk, islam, darussalam,]   \n",
       "\n",
       "                                                                labels  \\\n",
       "10  [O, B-POI, I-POI-SHORT, I-POI-SHORT, E-POI, B-STR, E-STR, O, O, O]   \n",
       "11                                          [B-POI-SHORT, E-POI-SHORT]   \n",
       "20                                         [B-POI, I-POI-SHORT, E-POI]   \n",
       "40                          [B-POI-SHORT, I-POI-SHORT, E-POI, O, O, O]   \n",
       "44                                  [B-POI, I-POI-SHORT, I-POI, E-POI]   \n",
       "48                           [B-POI, I-POI, E-POI-SHORT, B-STR, E-STR]   \n",
       "69                                           [S-STR-SHORT, O, O, O, O]   \n",
       "74                               [B-POI, E-POI-SHORT, B-STR, E-STR, O]   \n",
       "76                     [B-POI, E-POI-SHORT, B-STR, I-STR, E-STR, O, O]   \n",
       "77                                         [B-POI, I-POI, E-POI-SHORT]   \n",
       "\n",
       "     pos_poi   pos_str  \n",
       "10    [1, 4]    [5, 6]  \n",
       "11    [0, 1]  [-1, -1]  \n",
       "20    [0, 2]  [-1, -1]  \n",
       "40    [0, 2]  [-1, -1]  \n",
       "44    [0, 3]  [-1, -1]  \n",
       "48    [0, 2]    [3, 4]  \n",
       "69  [-1, -1]    [0, 0]  \n",
       "74    [0, 1]    [2, 3]  \n",
       "76    [0, 1]    [2, 4]  \n",
       "77    [0, 2]  [-1, -1]  "
      ]
     },
     "execution_count": 14,
     "metadata": {},
     "output_type": "execute_result"
    }
   ],
   "source": [
    "train_df[train_df['id'].isin(SHORTEN_IDX[:10])]"
   ]
  },
  {
   "cell_type": "code",
   "execution_count": 15,
   "metadata": {
    "papermill": {
     "duration": 0.420356,
     "end_time": "2021-03-28T19:07:51.829068",
     "exception": false,
     "start_time": "2021-03-28T19:07:51.408712",
     "status": "completed"
    },
    "tags": []
   },
   "outputs": [
    {
     "data": {
      "text/plain": [
       "1211"
      ]
     },
     "execution_count": 15,
     "metadata": {},
     "output_type": "execute_result"
    }
   ],
   "source": [
    "ERR_IDX = set(POI_ERR_IDX + STR_ERR_IDX + list(OVERLAP_IDX))\n",
    "len(ERR_IDX)"
   ]
  },
  {
   "cell_type": "code",
   "execution_count": 16,
   "metadata": {
    "papermill": {
     "duration": 0.834912,
     "end_time": "2021-03-28T19:07:53.273142",
     "exception": false,
     "start_time": "2021-03-28T19:07:52.438230",
     "status": "completed"
    },
    "tags": []
   },
   "outputs": [],
   "source": [
    "train_df = train_df[~train_df['id'].isin(ERR_IDX)]"
   ]
  },
  {
   "cell_type": "code",
   "execution_count": 17,
   "metadata": {
    "papermill": {
     "duration": 0.671309,
     "end_time": "2021-03-28T19:07:54.370674",
     "exception": false,
     "start_time": "2021-03-28T19:07:53.699365",
     "status": "completed"
    },
    "tags": []
   },
   "outputs": [],
   "source": [
    "def cleanshort(arr):\n",
    "    return [s.replace('-SHORT', '') for s in arr]\n",
    "\n",
    "new_train_df = train_df[train_df['id'].isin(SHORTEN_IDX)].copy(deep=True)\n",
    "new_train_df['tokens'] = new_train_df['full_tokens'].apply(dummy)\n",
    "new_train_df['labels'] = new_train_df['labels'].apply(cleanshort)"
   ]
  },
  {
   "cell_type": "code",
   "execution_count": 18,
   "metadata": {
    "papermill": {
     "duration": 0.456445,
     "end_time": "2021-03-28T19:07:55.258398",
     "exception": false,
     "start_time": "2021-03-28T19:07:54.801953",
     "status": "completed"
    },
    "tags": []
   },
   "outputs": [
    {
     "data": {
      "text/html": [
       "<div>\n",
       "<style scoped>\n",
       "    .dataframe tbody tr th:only-of-type {\n",
       "        vertical-align: middle;\n",
       "    }\n",
       "\n",
       "    .dataframe tbody tr th {\n",
       "        vertical-align: top;\n",
       "    }\n",
       "\n",
       "    .dataframe thead th {\n",
       "        text-align: right;\n",
       "    }\n",
       "</style>\n",
       "<table border=\"1\" class=\"dataframe\">\n",
       "  <thead>\n",
       "    <tr style=\"text-align: right;\">\n",
       "      <th></th>\n",
       "      <th>id</th>\n",
       "      <th>raw_address</th>\n",
       "      <th>POI/street</th>\n",
       "      <th>POI</th>\n",
       "      <th>STR</th>\n",
       "      <th>tokens</th>\n",
       "      <th>strip_tokens</th>\n",
       "      <th>full_tokens</th>\n",
       "      <th>labels</th>\n",
       "      <th>pos_poi</th>\n",
       "      <th>pos_str</th>\n",
       "    </tr>\n",
       "  </thead>\n",
       "  <tbody>\n",
       "    <tr>\n",
       "      <th>10</th>\n",
       "      <td>10</td>\n",
       "      <td>cikahuripan sd neg boj 02 klap boj, no 5 16877</td>\n",
       "      <td>sd negeri bojong 02/klap boj</td>\n",
       "      <td>[sd, negeri, bojong, 02]</td>\n",
       "      <td>[klap, boj]</td>\n",
       "      <td>[cikahuripan, sd, negeri, bojong, 02, klap, boj,, no, 5, 16877]</td>\n",
       "      <td>[cikahuripan, sd, neg, boj, 02, klap, boj, no, 5, 16877]</td>\n",
       "      <td>[cikahuripan, sd, negeri, bojong, 02, klap, boj,, no, 5, 16877]</td>\n",
       "      <td>[O, B-POI, I-POI, I-POI, E-POI, B-STR, E-STR, O, O, O]</td>\n",
       "      <td>[1, 4]</td>\n",
       "      <td>[5, 6]</td>\n",
       "    </tr>\n",
       "    <tr>\n",
       "      <th>11</th>\n",
       "      <td>11</td>\n",
       "      <td>yaya atohar,</td>\n",
       "      <td>yayasan atohariyah/</td>\n",
       "      <td>[yayasan, atohariyah]</td>\n",
       "      <td>[]</td>\n",
       "      <td>[yayasan, atohariyah,]</td>\n",
       "      <td>[yaya, atohar]</td>\n",
       "      <td>[yayasan, atohariyah,]</td>\n",
       "      <td>[B-POI, E-POI]</td>\n",
       "      <td>[0, 1]</td>\n",
       "      <td>[-1, -1]</td>\n",
       "    </tr>\n",
       "    <tr>\n",
       "      <th>20</th>\n",
       "      <td>20</td>\n",
       "      <td>toko bang ajs,</td>\n",
       "      <td>toko bangunan ajs/</td>\n",
       "      <td>[toko, bangunan, ajs]</td>\n",
       "      <td>[]</td>\n",
       "      <td>[toko, bangunan, ajs,]</td>\n",
       "      <td>[toko, bang, ajs]</td>\n",
       "      <td>[toko, bangunan, ajs,]</td>\n",
       "      <td>[B-POI, I-POI, E-POI]</td>\n",
       "      <td>[0, 2]</td>\n",
       "      <td>[-1, -1]</td>\n",
       "    </tr>\n",
       "    <tr>\n",
       "      <th>40</th>\n",
       "      <td>40</td>\n",
       "      <td>mar tabl metro iringmulyo metro timur</td>\n",
       "      <td>markaz tabligh metro/</td>\n",
       "      <td>[markaz, tabligh, metro]</td>\n",
       "      <td>[]</td>\n",
       "      <td>[markaz, tabligh, metro, iringmulyo, metro, timur]</td>\n",
       "      <td>[mar, tabl, metro, iringmulyo, metro, timur]</td>\n",
       "      <td>[markaz, tabligh, metro, iringmulyo, metro, timur]</td>\n",
       "      <td>[B-POI, I-POI, E-POI, O, O, O]</td>\n",
       "      <td>[0, 2]</td>\n",
       "      <td>[-1, -1]</td>\n",
       "    </tr>\n",
       "    <tr>\n",
       "      <th>44</th>\n",
       "      <td>44</td>\n",
       "      <td>sd neg 12 anggrek</td>\n",
       "      <td>sd negeri 12 anggrek/</td>\n",
       "      <td>[sd, negeri, 12, anggrek]</td>\n",
       "      <td>[]</td>\n",
       "      <td>[sd, negeri, 12, anggrek]</td>\n",
       "      <td>[sd, neg, 12, anggrek]</td>\n",
       "      <td>[sd, negeri, 12, anggrek]</td>\n",
       "      <td>[B-POI, I-POI, I-POI, E-POI]</td>\n",
       "      <td>[0, 3]</td>\n",
       "      <td>[-1, -1]</td>\n",
       "    </tr>\n",
       "  </tbody>\n",
       "</table>\n",
       "</div>"
      ],
      "text/plain": [
       "    id                                     raw_address  \\\n",
       "10  10  cikahuripan sd neg boj 02 klap boj, no 5 16877   \n",
       "11  11                                    yaya atohar,   \n",
       "20  20                                  toko bang ajs,   \n",
       "40  40           mar tabl metro iringmulyo metro timur   \n",
       "44  44                               sd neg 12 anggrek   \n",
       "\n",
       "                      POI/street                        POI          STR  \\\n",
       "10  sd negeri bojong 02/klap boj   [sd, negeri, bojong, 02]  [klap, boj]   \n",
       "11           yayasan atohariyah/      [yayasan, atohariyah]           []   \n",
       "20            toko bangunan ajs/      [toko, bangunan, ajs]           []   \n",
       "40         markaz tabligh metro/   [markaz, tabligh, metro]           []   \n",
       "44         sd negeri 12 anggrek/  [sd, negeri, 12, anggrek]           []   \n",
       "\n",
       "                                                             tokens  \\\n",
       "10  [cikahuripan, sd, negeri, bojong, 02, klap, boj,, no, 5, 16877]   \n",
       "11                                           [yayasan, atohariyah,]   \n",
       "20                                           [toko, bangunan, ajs,]   \n",
       "40               [markaz, tabligh, metro, iringmulyo, metro, timur]   \n",
       "44                                        [sd, negeri, 12, anggrek]   \n",
       "\n",
       "                                                strip_tokens  \\\n",
       "10  [cikahuripan, sd, neg, boj, 02, klap, boj, no, 5, 16877]   \n",
       "11                                            [yaya, atohar]   \n",
       "20                                         [toko, bang, ajs]   \n",
       "40              [mar, tabl, metro, iringmulyo, metro, timur]   \n",
       "44                                    [sd, neg, 12, anggrek]   \n",
       "\n",
       "                                                        full_tokens  \\\n",
       "10  [cikahuripan, sd, negeri, bojong, 02, klap, boj,, no, 5, 16877]   \n",
       "11                                           [yayasan, atohariyah,]   \n",
       "20                                           [toko, bangunan, ajs,]   \n",
       "40               [markaz, tabligh, metro, iringmulyo, metro, timur]   \n",
       "44                                        [sd, negeri, 12, anggrek]   \n",
       "\n",
       "                                                    labels pos_poi   pos_str  \n",
       "10  [O, B-POI, I-POI, I-POI, E-POI, B-STR, E-STR, O, O, O]  [1, 4]    [5, 6]  \n",
       "11                                          [B-POI, E-POI]  [0, 1]  [-1, -1]  \n",
       "20                                   [B-POI, I-POI, E-POI]  [0, 2]  [-1, -1]  \n",
       "40                          [B-POI, I-POI, E-POI, O, O, O]  [0, 2]  [-1, -1]  \n",
       "44                            [B-POI, I-POI, I-POI, E-POI]  [0, 3]  [-1, -1]  "
      ]
     },
     "execution_count": 18,
     "metadata": {},
     "output_type": "execute_result"
    }
   ],
   "source": [
    "new_train_df.head()"
   ]
  },
  {
   "cell_type": "code",
   "execution_count": 19,
   "metadata": {
    "papermill": {
     "duration": 0.531855,
     "end_time": "2021-03-28T19:07:56.222690",
     "exception": false,
     "start_time": "2021-03-28T19:07:55.690835",
     "status": "completed"
    },
    "tags": []
   },
   "outputs": [],
   "source": [
    "train_df = train_df.append(new_train_df, ignore_index=True)"
   ]
  },
  {
   "cell_type": "code",
   "execution_count": 20,
   "metadata": {
    "papermill": {
     "duration": 0.433073,
     "end_time": "2021-03-28T19:07:57.094091",
     "exception": false,
     "start_time": "2021-03-28T19:07:56.661018",
     "status": "completed"
    },
    "tags": []
   },
   "outputs": [],
   "source": [
    "from tqdm import tqdm\n",
    "\n",
    "swap_parts = []\n",
    "swap_tokens = []\n",
    "swap_labels = []"
   ]
  },
  {
   "cell_type": "code",
   "execution_count": 21,
   "metadata": {
    "papermill": {
     "duration": 63.966333,
     "end_time": "2021-03-28T19:09:01.482193",
     "exception": false,
     "start_time": "2021-03-28T19:07:57.515860",
     "status": "completed"
    },
    "tags": []
   },
   "outputs": [
    {
     "name": "stderr",
     "output_type": "stream",
     "text": [
      "100%|██████████| 357219/357219 [00:38<00:00, 9214.97it/s] \n"
     ]
    }
   ],
   "source": [
    "for idx in tqdm(range(len(train_df))):\n",
    "    old_row = train_df.iloc[idx]\n",
    "    if old_row['pos_poi'][0] == -1 or old_row['pos_str'][0] == -1: continue\n",
    "    \n",
    "    start_poi, end_poi = old_row['pos_poi']\n",
    "    start_str, end_str = old_row['pos_str']\n",
    "    if end_poi < start_str:\n",
    "        swap_tokens.append(old_row['tokens'][:start_poi] + \\\n",
    "                           old_row['tokens'][start_str:end_str + 1] + \\\n",
    "                           old_row['tokens'][end_poi + 1:start_str] + \\\n",
    "                           old_row['tokens'][start_poi:end_poi + 1] + \\\n",
    "                           old_row['tokens'][end_str + 1:])\n",
    "        swap_labels.append(old_row['labels'][:start_poi] + \\\n",
    "                           old_row['labels'][start_str:end_str + 1] + \\\n",
    "                           old_row['labels'][end_poi + 1:start_str] + \\\n",
    "                           old_row['labels'][start_poi:end_poi + 1] + \\\n",
    "                           old_row['labels'][end_str + 1:])\n",
    "        swap_parts.append((0, \\\n",
    "                           old_row['tokens'][:start_poi], \\\n",
    "                           old_row['tokens'][start_str:end_str + 1], \\\n",
    "                           old_row['tokens'][end_poi + 1:start_str], \\\n",
    "                           old_row['tokens'][start_poi:end_poi + 1], \\\n",
    "                           old_row['tokens'][end_str + 1:], \\\n",
    "                           old_row['labels'][:start_poi], \\\n",
    "                           old_row['labels'][start_str:end_str + 1], \\\n",
    "                           old_row['labels'][end_poi + 1:start_str], \\\n",
    "                           old_row['labels'][start_poi:end_poi + 1], \\\n",
    "                           old_row['labels'][end_str + 1:]))\n",
    "    else:\n",
    "        swap_tokens.append(old_row['tokens'][:start_str] + \\\n",
    "                           old_row['tokens'][start_poi:end_poi + 1] + \\\n",
    "                           old_row['tokens'][end_str + 1:start_poi] + \\\n",
    "                           old_row['tokens'][start_str:end_str + 1] + \\\n",
    "                           old_row['tokens'][end_poi + 1:])\n",
    "        swap_labels.append(old_row['labels'][:start_str] + \\\n",
    "                           old_row['labels'][start_poi:end_poi + 1] + \\\n",
    "                           old_row['labels'][end_str + 1:start_poi] + \\\n",
    "                           old_row['labels'][start_str:end_str + 1] + \\\n",
    "                           old_row['labels'][end_poi + 1:])\n",
    "        swap_parts.append((1, \\\n",
    "                           old_row['tokens'][:start_str], \\\n",
    "                           old_row['tokens'][start_poi:end_poi + 1], \\\n",
    "                           old_row['tokens'][end_str + 1:start_poi], \\\n",
    "                           old_row['tokens'][start_str:end_str + 1], \\\n",
    "                           old_row['tokens'][end_poi + 1:], \\\n",
    "                           old_row['labels'][:start_str], \\\n",
    "                           old_row['labels'][start_poi:end_poi + 1], \\\n",
    "                           old_row['labels'][end_str + 1:start_poi], \\\n",
    "                           old_row['labels'][start_str:end_str + 1], \\\n",
    "                           old_row['labels'][end_poi + 1:]))"
   ]
  },
  {
   "cell_type": "code",
   "execution_count": 22,
   "metadata": {
    "papermill": {
     "duration": 0.680893,
     "end_time": "2021-03-28T19:09:02.726481",
     "exception": false,
     "start_time": "2021-03-28T19:09:02.045588",
     "status": "completed"
    },
    "tags": []
   },
   "outputs": [],
   "source": [
    "import random\n",
    "swap_idx = list(range(len(swap_parts)))\n",
    "random.Random(SEED).shuffle(swap_idx)"
   ]
  },
  {
   "cell_type": "code",
   "execution_count": 23,
   "metadata": {
    "papermill": {
     "duration": 1.202057,
     "end_time": "2021-03-28T19:09:04.491410",
     "exception": false,
     "start_time": "2021-03-28T19:09:03.289353",
     "status": "completed"
    },
    "tags": []
   },
   "outputs": [
    {
     "name": "stderr",
     "output_type": "stream",
     "text": [
      "100%|██████████| 122193/122193 [00:00<00:00, 149057.25it/s]\n"
     ]
    }
   ],
   "source": [
    "for i in tqdm(range(len(swap_parts))):\n",
    "    if i == swap_idx[i]: continue\n",
    "    j = swap_idx[i]\n",
    "    \n",
    "    swap_tokens.append(swap_parts[i][1] + swap_parts[j][2] + swap_parts[i][3] + swap_parts[j][4] + swap_parts[i][5])\n",
    "    swap_labels.append(swap_parts[i][6] + swap_parts[j][7] + swap_parts[i][8] + swap_parts[j][9] + swap_parts[i][10])"
   ]
  },
  {
   "cell_type": "code",
   "execution_count": 24,
   "metadata": {
    "papermill": {
     "duration": 1.527087,
     "end_time": "2021-03-28T19:09:06.582121",
     "exception": false,
     "start_time": "2021-03-28T19:09:05.055034",
     "status": "completed"
    },
    "tags": []
   },
   "outputs": [
    {
     "data": {
      "text/html": [
       "<div>\n",
       "<style scoped>\n",
       "    .dataframe tbody tr th:only-of-type {\n",
       "        vertical-align: middle;\n",
       "    }\n",
       "\n",
       "    .dataframe tbody tr th {\n",
       "        vertical-align: top;\n",
       "    }\n",
       "\n",
       "    .dataframe thead th {\n",
       "        text-align: right;\n",
       "    }\n",
       "</style>\n",
       "<table border=\"1\" class=\"dataframe\">\n",
       "  <thead>\n",
       "    <tr style=\"text-align: right;\">\n",
       "      <th></th>\n",
       "      <th>tokens</th>\n",
       "      <th>labels</th>\n",
       "    </tr>\n",
       "  </thead>\n",
       "  <tbody>\n",
       "    <tr>\n",
       "      <th>0</th>\n",
       "      <td>[toko, bb, kids, 299, raya, samb, gede,]</td>\n",
       "      <td>[B-POI, I-POI, E-POI, O, B-STR, I-STR, E-STR]</td>\n",
       "    </tr>\n",
       "    <tr>\n",
       "      <th>1</th>\n",
       "      <td>[cikahuripan, klap, boj,, sd, neg, boj, 02, no, 5, 16877]</td>\n",
       "      <td>[O, B-STR, E-STR, B-POI, I-POI-SHORT, I-POI-SHORT, E-POI, O, O, O]</td>\n",
       "    </tr>\n",
       "    <tr>\n",
       "      <th>2</th>\n",
       "      <td>[br., junjungan,, jln., tirta, tawar,, ubud,, barat, jalan, dajan, rurung]</td>\n",
       "      <td>[B-POI, E-POI, B-STR, I-STR, E-STR, O, O, O, O, O]</td>\n",
       "    </tr>\n",
       "    <tr>\n",
       "      <th>3</th>\n",
       "      <td>[komplek, borneo, lestari,, jl., amd,, blok, 2,, no., 30]</td>\n",
       "      <td>[B-POI, I-POI, E-POI, B-STR, E-STR, O, O, O, O]</td>\n",
       "    </tr>\n",
       "    <tr>\n",
       "      <th>4</th>\n",
       "      <td>[raya, jomb,, rumah, makan, pela,]</td>\n",
       "      <td>[B-STR, E-STR, B-POI, I-POI, E-POI-SHORT]</td>\n",
       "    </tr>\n",
       "  </tbody>\n",
       "</table>\n",
       "</div>"
      ],
      "text/plain": [
       "                                                                       tokens  \\\n",
       "0                                    [toko, bb, kids, 299, raya, samb, gede,]   \n",
       "1                   [cikahuripan, klap, boj,, sd, neg, boj, 02, no, 5, 16877]   \n",
       "2  [br., junjungan,, jln., tirta, tawar,, ubud,, barat, jalan, dajan, rurung]   \n",
       "3                   [komplek, borneo, lestari,, jl., amd,, blok, 2,, no., 30]   \n",
       "4                                          [raya, jomb,, rumah, makan, pela,]   \n",
       "\n",
       "                                                               labels  \n",
       "0                       [B-POI, I-POI, E-POI, O, B-STR, I-STR, E-STR]  \n",
       "1  [O, B-STR, E-STR, B-POI, I-POI-SHORT, I-POI-SHORT, E-POI, O, O, O]  \n",
       "2                  [B-POI, E-POI, B-STR, I-STR, E-STR, O, O, O, O, O]  \n",
       "3                     [B-POI, I-POI, E-POI, B-STR, E-STR, O, O, O, O]  \n",
       "4                           [B-STR, E-STR, B-POI, I-POI, E-POI-SHORT]  "
      ]
     },
     "execution_count": 24,
     "metadata": {},
     "output_type": "execute_result"
    }
   ],
   "source": [
    "swap_train_df = pd.DataFrame(columns=['tokens', 'labels'], data={'tokens': swap_tokens, 'labels': swap_labels})\n",
    "swap_train_df.head()"
   ]
  },
  {
   "cell_type": "code",
   "execution_count": 25,
   "metadata": {
    "papermill": {
     "duration": 0.615631,
     "end_time": "2021-03-28T19:09:07.794381",
     "exception": false,
     "start_time": "2021-03-28T19:09:07.178750",
     "status": "completed"
    },
    "tags": []
   },
   "outputs": [],
   "source": [
    "train_df.drop(columns=['id', 'raw_address', 'POI/street', 'POI', 'STR', 'strip_tokens', 'full_tokens', 'pos_poi', 'pos_str'], inplace=True)"
   ]
  },
  {
   "cell_type": "code",
   "execution_count": 26,
   "metadata": {
    "papermill": {
     "duration": 0.617735,
     "end_time": "2021-03-28T19:09:08.980313",
     "exception": false,
     "start_time": "2021-03-28T19:09:08.362578",
     "status": "completed"
    },
    "tags": []
   },
   "outputs": [],
   "source": [
    "train_df = train_df.append(swap_train_df, ignore_index=True)"
   ]
  },
  {
   "cell_type": "code",
   "execution_count": 27,
   "metadata": {
    "papermill": {
     "duration": 0.719588,
     "end_time": "2021-03-28T19:09:10.623137",
     "exception": false,
     "start_time": "2021-03-28T19:09:09.903549",
     "status": "completed"
    },
    "tags": []
   },
   "outputs": [
    {
     "data": {
      "text/html": [
       "<div>\n",
       "<style scoped>\n",
       "    .dataframe tbody tr th:only-of-type {\n",
       "        vertical-align: middle;\n",
       "    }\n",
       "\n",
       "    .dataframe tbody tr th {\n",
       "        vertical-align: top;\n",
       "    }\n",
       "\n",
       "    .dataframe thead th {\n",
       "        text-align: right;\n",
       "    }\n",
       "</style>\n",
       "<table border=\"1\" class=\"dataframe\">\n",
       "  <thead>\n",
       "    <tr style=\"text-align: right;\">\n",
       "      <th></th>\n",
       "      <th>tokens</th>\n",
       "      <th>labels</th>\n",
       "    </tr>\n",
       "  </thead>\n",
       "  <tbody>\n",
       "    <tr>\n",
       "      <th>0</th>\n",
       "      <td>[jl, kapuk, timur, delta, sili, iii, lippo, cika, 11, a, cicau, cikarang, pusat]</td>\n",
       "      <td>[B-STR, I-STR, I-STR, I-STR, I-STR, I-STR, I-STR, E-STR, O, O, O, O, O]</td>\n",
       "    </tr>\n",
       "    <tr>\n",
       "      <th>1</th>\n",
       "      <td>[aye,, jati, sampurna]</td>\n",
       "      <td>[O, O, O]</td>\n",
       "    </tr>\n",
       "    <tr>\n",
       "      <th>2</th>\n",
       "      <td>[setu, siung, 119, rt, 5, 1, 13880, cipayung]</td>\n",
       "      <td>[O, S-STR, O, O, O, O, O, O]</td>\n",
       "    </tr>\n",
       "    <tr>\n",
       "      <th>3</th>\n",
       "      <td>[toko, dita,, kertosono]</td>\n",
       "      <td>[B-POI, E-POI, O]</td>\n",
       "    </tr>\n",
       "    <tr>\n",
       "      <th>4</th>\n",
       "      <td>[jl., orde, baru]</td>\n",
       "      <td>[B-STR, I-STR, E-STR]</td>\n",
       "    </tr>\n",
       "  </tbody>\n",
       "</table>\n",
       "</div>"
      ],
      "text/plain": [
       "                                                                             tokens  \\\n",
       "0  [jl, kapuk, timur, delta, sili, iii, lippo, cika, 11, a, cicau, cikarang, pusat]   \n",
       "1                                                            [aye,, jati, sampurna]   \n",
       "2                                     [setu, siung, 119, rt, 5, 1, 13880, cipayung]   \n",
       "3                                                          [toko, dita,, kertosono]   \n",
       "4                                                                 [jl., orde, baru]   \n",
       "\n",
       "                                                                    labels  \n",
       "0  [B-STR, I-STR, I-STR, I-STR, I-STR, I-STR, I-STR, E-STR, O, O, O, O, O]  \n",
       "1                                                                [O, O, O]  \n",
       "2                                             [O, S-STR, O, O, O, O, O, O]  \n",
       "3                                                        [B-POI, E-POI, O]  \n",
       "4                                                    [B-STR, I-STR, E-STR]  "
      ]
     },
     "execution_count": 27,
     "metadata": {},
     "output_type": "execute_result"
    }
   ],
   "source": [
    "train_df.head()"
   ]
  },
  {
   "cell_type": "code",
   "execution_count": 28,
   "metadata": {
    "papermill": {
     "duration": 0.844826,
     "end_time": "2021-03-28T19:09:12.217460",
     "exception": false,
     "start_time": "2021-03-28T19:09:11.372634",
     "status": "completed"
    },
    "tags": []
   },
   "outputs": [
    {
     "data": {
      "text/plain": [
       "601605"
      ]
     },
     "execution_count": 28,
     "metadata": {},
     "output_type": "execute_result"
    }
   ],
   "source": [
    "len(train_df)"
   ]
  },
  {
   "cell_type": "code",
   "execution_count": 29,
   "metadata": {
    "papermill": {
     "duration": 5.229529,
     "end_time": "2021-03-28T19:09:18.053619",
     "exception": false,
     "start_time": "2021-03-28T19:09:12.824090",
     "status": "completed"
    },
    "tags": []
   },
   "outputs": [],
   "source": [
    "import json\n",
    "\n",
    "with open('wordlist_raw.json', 'w') as fp:\n",
    "    json.dump(wordlist_raw, fp)"
   ]
  },
  {
   "cell_type": "code",
   "execution_count": 30,
   "metadata": {
    "papermill": {
     "duration": 0.933487,
     "end_time": "2021-03-28T19:09:20.805576",
     "exception": false,
     "start_time": "2021-03-28T19:09:19.872089",
     "status": "completed"
    },
    "tags": []
   },
   "outputs": [
    {
     "data": {
      "text/plain": [
       "11825"
      ]
     },
     "execution_count": 30,
     "metadata": {},
     "output_type": "execute_result"
    }
   ],
   "source": [
    "len(wordlist_raw)"
   ]
  },
  {
   "cell_type": "code",
   "execution_count": 31,
   "metadata": {
    "papermill": {
     "duration": 0.584708,
     "end_time": "2021-03-28T19:09:22.103181",
     "exception": false,
     "start_time": "2021-03-28T19:09:21.518473",
     "status": "completed"
    },
    "tags": []
   },
   "outputs": [],
   "source": [
    "def get_list(raw, p, lmt):\n",
    "    res = {}\n",
    "    for word, stats in raw.items():\n",
    "        best = max(stats, key=stats.get)\n",
    "        best_cnt = stats[best]\n",
    "        total = sum(stats.values())\n",
    "        frac = best_cnt / total\n",
    "        if total >= lmt and best_cnt / total >= p: \n",
    "            res[word] = best\n",
    "    return res"
   ]
  },
  {
   "cell_type": "code",
   "execution_count": 32,
   "metadata": {
    "papermill": {
     "duration": 0.602249,
     "end_time": "2021-03-28T19:09:23.278052",
     "exception": false,
     "start_time": "2021-03-28T19:09:22.675803",
     "status": "completed"
    },
    "tags": []
   },
   "outputs": [],
   "source": [
    "wordlist = get_list(wordlist_raw, 0, 1)"
   ]
  },
  {
   "cell_type": "code",
   "execution_count": 33,
   "metadata": {
    "papermill": {
     "duration": 0.589516,
     "end_time": "2021-03-28T19:09:24.438341",
     "exception": false,
     "start_time": "2021-03-28T19:09:23.848825",
     "status": "completed"
    },
    "tags": []
   },
   "outputs": [
    {
     "data": {
      "text/plain": [
       "11825"
      ]
     },
     "execution_count": 33,
     "metadata": {},
     "output_type": "execute_result"
    }
   ],
   "source": [
    "len(wordlist)"
   ]
  },
  {
   "cell_type": "code",
   "execution_count": 34,
   "metadata": {
    "papermill": {
     "duration": 0.624003,
     "end_time": "2021-03-28T19:09:25.649271",
     "exception": false,
     "start_time": "2021-03-28T19:09:25.025268",
     "status": "completed"
    },
    "tags": []
   },
   "outputs": [],
   "source": [
    "import json\n",
    "\n",
    "with open('wordlist.json', 'w') as fp:\n",
    "    json.dump(wordlist, fp)"
   ]
  },
  {
   "cell_type": "markdown",
   "metadata": {
    "papermill": {
     "duration": 0.576414,
     "end_time": "2021-03-28T19:09:26.799078",
     "exception": false,
     "start_time": "2021-03-28T19:09:26.222664",
     "status": "completed"
    },
    "tags": []
   },
   "source": [
    "# Training\n",
    "- Fine tune a pretrained BERT model using `fastai` and `blurr`\n",
    "- **Ensembling** is not included in this notebook due to Kaggle kernel time limit\n",
    "- Our 1st place solution used ensembling of 2 models `bert-base-multilingual-uncased` and `indobenchmark/indobert-large-p1` by taking the **average of the prediction probabilities for each word** :)"
   ]
  },
  {
   "cell_type": "code",
   "execution_count": 35,
   "metadata": {
    "papermill": {
     "duration": 0.58299,
     "end_time": "2021-03-28T19:23:07.042992",
     "exception": false,
     "start_time": "2021-03-28T19:23:06.460002",
     "status": "completed"
    },
    "tags": []
   },
   "outputs": [],
   "source": [
    "# Cell\n",
    "@delegates()\n",
    "class TokenCrossEntropyLossFlat(BaseLoss):\n",
    "    \"Same as `CrossEntropyLossFlat`, but for mutiple tokens output\"\n",
    "    y_int = True\n",
    "    @use_kwargs_dict(keep=True, weight=None, ignore_index=-100, reduction='mean')\n",
    "    def __init__(self, *args, axis=-1, **kwargs): super().__init__(nn.CrossEntropyLoss, *args, axis=axis, **kwargs)\n",
    "    def decodes(self, x):    return L([ i.argmax(dim=self.axis) for i in x ])\n",
    "    def activation(self, x): return L([ F.softmax(i, dim=self.axis) for i in x ])"
   ]
  },
  {
   "cell_type": "code",
   "execution_count": 36,
   "metadata": {
    "papermill": {
     "duration": 0.872791,
     "end_time": "2021-03-28T19:10:03.946346",
     "exception": false,
     "start_time": "2021-03-28T19:10:03.073555",
     "status": "completed"
    },
    "tags": []
   },
   "outputs": [
    {
     "name": "stdout",
     "output_type": "stream",
     "text": [
      "['B-POI', 'B-POI-SHORT', 'B-STR', 'B-STR-SHORT', 'E-POI', 'E-POI-SHORT', 'E-STR', 'E-STR-SHORT', 'I-POI', 'I-POI-SHORT', 'I-STR', 'I-STR-SHORT', 'O', 'S-POI', 'S-POI-SHORT', 'S-STR', 'S-STR-SHORT']\n"
     ]
    }
   ],
   "source": [
    "labels = sorted(list(set([lbls for sublist in train_df.labels.tolist() for lbls in sublist])))\n",
    "print(labels)"
   ]
  },
  {
   "cell_type": "code",
   "execution_count": 37,
   "metadata": {},
   "outputs": [],
   "source": [
    "def create_learner(pretrained_model_name) -> Learner:\n",
    "    model_cls = AutoModelForTokenClassification\n",
    "    config = AutoConfig.from_pretrained(pretrained_model_name)\n",
    "    config.num_labels = len(labels)\n",
    "    \n",
    "    hf_arch, hf_config, hf_tokenizer, hf_model = BLURR.get_hf_objects(pretrained_model_name, \n",
    "                                                                      model_cls=model_cls, \n",
    "                                                                      config=config)\n",
    "    \n",
    "    print(hf_arch)\n",
    "    print(type(hf_config))\n",
    "    print(type(hf_tokenizer))\n",
    "    print(type(hf_model))\n",
    "    \n",
    "    before_batch_tfm = HF_TokenClassBeforeBatchTransform(hf_arch, hf_config, hf_tokenizer, hf_model,\n",
    "                                                         is_split_into_words=True, \n",
    "                                                         tok_kwargs={ 'return_special_tokens_mask': True })\n",
    "    \n",
    "    blocks = (\n",
    "        HF_TextBlock(before_batch_tfm=before_batch_tfm, input_return_type=HF_TokenClassInput), \n",
    "        HF_TokenCategoryBlock(vocab=labels)\n",
    "    )\n",
    "    \n",
    "    db = DataBlock(blocks=blocks, \n",
    "                   splitter=RandomSplitter(seed=SEED),\n",
    "                   get_x=ColReader('tokens'),\n",
    "                   get_y=lambda inp: [(label, len(hf_tokenizer.tokenize(str(entity)))) for entity, label in zip(inp.tokens, inp.labels)])\n",
    "    \n",
    "    dls = db.dataloaders(train_df, bs=128)\n",
    "    dls.show_batch(dataloaders=dls)\n",
    "    \n",
    "    model = HF_BaseModelWrapper(hf_model)\n",
    "    loss_func = TokenCrossEntropyLossFlat()\n",
    "    opt_func = partial(Adam)\n",
    "    learn_cbs = [HF_BaseModelCallback]\n",
    "    splitter = hf_splitter\n",
    "    \n",
    "    return Learner(dls, model, loss_func=loss_func, opt_func=opt_func, splitter=splitter, cbs=learn_cbs).to_fp16()"
   ]
  },
  {
   "cell_type": "code",
   "execution_count": 38,
   "metadata": {},
   "outputs": [],
   "source": [
    "def train_learner(learn):\n",
    "    fit_cbs = [HF_TokenClassMetricsCallback()]\n",
    "    \n",
    "    learn.create_opt()\n",
    "    \n",
    "    learn.freeze()\n",
    "    learn.lr_find(suggestions=True)\n",
    "    learn.fit_one_cycle(3, lr_max=1e-4, moms=(0.8, 0.7, 0.8), cbs=fit_cbs)\n",
    "    torch.cuda.empty_cache()\n",
    "    \n",
    "    learn.unfreeze()\n",
    "    learn.lr_find(suggestions=True)\n",
    "    learn.fit_one_cycle(5, lr_max=slice(1e-5, 1e-4), moms=(0.8, 0.7, 0.8), cbs=fit_cbs)\n",
    "    torch.cuda.empty_cache()\n",
    "    \n",
    "    learn.recorder.plot_loss()\n",
    "    \n",
    "    print(learn.token_classification_report)"
   ]
  },
  {
   "cell_type": "code",
   "execution_count": 39,
   "metadata": {},
   "outputs": [
    {
     "name": "stdout",
     "output_type": "stream",
     "text": [
      "bert\n",
      "<class 'transformers.models.bert.configuration_bert.BertConfig'>\n",
      "<class 'transformers.models.bert.tokenization_bert_fast.BertTokenizerFast'>\n",
      "<class 'transformers.models.bert.modeling_bert.BertForTokenClassification'>\n"
     ]
    },
    {
     "data": {
      "text/html": [
       "<table border=\"1\" class=\"dataframe\">\n",
       "  <thead>\n",
       "    <tr style=\"text-align: right;\">\n",
       "      <th></th>\n",
       "      <th>token / target label</th>\n",
       "    </tr>\n",
       "  </thead>\n",
       "  <tbody>\n",
       "    <tr>\n",
       "      <th>0</th>\n",
       "      <td>[('dusun', 'B-POI'), ('7', 'I-POI'), ('1', 'I-POI'), ('=', 'I-POI'), ('c', 'I-POI'), ('dalam', 'I-POI'), ('patokan', 'I-POI'), ('masuk', 'I-POI'), ('dari', 'I-POI'), ('pasar', 'I-POI'), ('1', 'I-POI'), ('paya', 'E-POI'), ('bakung', 'O'), ('masuk,', 'O'), ('sumber', 'O'), ('melati', 'B-STR'), ('diski', 'I-STR'), ('jl', 'I-STR'), ('imp', 'I-STR'), ('sebe', 'I-STR'), ('mush', 'I-STR'), ('bau', 'I-STR'), ('muk', 'I-STR'), ('di', 'I-STR'), ('ping', 'I-STR'), ('sun', 'I-STR'), ('kecil', 'I-STR'), ('buka', 'I-STR'), ('08.', 'E-STR'), ('00', 'O')]</td>\n",
       "    </tr>\n",
       "    <tr>\n",
       "      <th>1</th>\n",
       "      <td>[('kebayoran', 'O'), ('lama', 'O'), ('utara', 'O'), ('pasar', 'B-POI'), ('jaya', 'I-POI'), ('kebayoran', 'I-POI'), ('lama', 'I-POI'), ('a', 'I-POI'), ('loo', 'I-POI'), ('aks', 'I-POI'), ('003', 'E-POI'), ('raya', 'B-STR'), ('kebay', 'I-STR'), ('lama', 'E-STR'), ('rt', 'O'), ('3', 'O'), ('rw', 'O'), ('1', 'O'), ('kebayoran', 'O'), ('lama', 'O')]</td>\n",
       "    </tr>\n",
       "    <tr>\n",
       "      <th>2</th>\n",
       "      <td>[('kebayoran', 'O'), ('lama', 'O'), ('utara', 'O'), ('raya', 'B-STR'), ('kebay', 'I-STR'), ('lama', 'E-STR'), ('pasar', 'B-POI'), ('jaya', 'I-POI'), ('kebayoran', 'I-POI'), ('lama', 'I-POI'), ('a', 'I-POI'), ('loo', 'I-POI'), ('aks', 'I-POI'), ('003', 'E-POI'), ('rt', 'O'), ('3', 'O'), ('rw', 'O'), ('1', 'O'), ('kebayoran', 'O'), ('lama', 'O')]</td>\n",
       "    </tr>\n",
       "    <tr>\n",
       "      <th>3</th>\n",
       "      <td>[('mangga', 'O'), ('dua', 'O'), ('selatan', 'O'), ('ruko', 'B-POI'), ('mall', 'I-POI'), ('mangga', 'I-POI'), ('dua', 'I-POI'), ('mall', 'I-POI'), ('rm.', 'I-POI'), ('09,', 'E-POI'), ('man', 'B-STR'), ('dua', 'I-STR'), ('raya', 'E-STR'), ('7', 'O'), ('rt', 'O'), ('1', 'O'), ('12', 'O'), ('10730', 'O'), ('sawah', 'O'), ('besar', 'O')]</td>\n",
       "    </tr>\n",
       "    <tr>\n",
       "      <th>4</th>\n",
       "      <td>[('raya', 'B-STR'), ('semi', 'E-STR'), ('dian', 'B-POI'), ('bali', 'I-POI'), ('mas', 'I-POI'), ('wika', 'I-POI-SHORT'), ('pt,', 'E-POI'), ('no.', 'O'), ('15.', 'O'), ('rt.', 'O'), ('03', 'O'), ('01,', 'O'), ('rt.', 'O'), ('004', 'O'), ('rw.', 'O'), ('002,', 'O'), ('sudimara', 'O'), ('tim.,', 'O'), ('kec.', 'O'), ('ciled', 'O')]</td>\n",
       "    </tr>\n",
       "    <tr>\n",
       "      <th>5</th>\n",
       "      <td>[('kelur', 'B-STR'), ('jur', 'I-STR'), ('mangu', 'I-STR'), ('timu,', 'E-STR'), ('utama', 'O'), ('timur', 'O'), ('meditran', 'O'), ('6', 'O'), ('blok', 'O'), ('m22', 'O'), ('33', 'O'), ('jurang', 'B-POI'), ('mangu', 'I-POI'), ('timur', 'I-POI'), ('02', 'I-POI'), ('public', 'I-POI'), ('elementary', 'I-POI'), ('school,', 'E-POI'), ('eropa,', 'O'), ('cikupa', 'O')]</td>\n",
       "    </tr>\n",
       "    <tr>\n",
       "      <th>6</th>\n",
       "      <td>[('haji', 'B-STR'), ('moh', 'I-STR'), ('toyib', 'E-STR'), ('kios', 'B-POI'), ('gemi', 'I-POI'), ('tani,', 'E-POI'), ('km', 'O'), ('19,', 'O'), ('8', 'O'), ('blok', 'O'), ('b1', 'O'), ('rt', 'O'), ('005', 'O'), ('rw', 'O'), ('002,', 'O'), ('poris', 'O'), ('gaga', 'O'), ('baru', 'O'), ('(', 'O'), ('pagarabu', 'O')]</td>\n",
       "    </tr>\n",
       "    <tr>\n",
       "      <th>7</th>\n",
       "      <td>[('jend', 'B-STR'), ('sudi,', 'E-STR'), ('binayasa', 'B-POI'), ('putra', 'I-POI'), ('batara', 'I-POI'), ('pt,', 'E-POI'), ('rukan', 'O'), ('blok', 'O'), ('e31', 'O'), ('(', 'O'), ('buka', 'O'), ('senin', 'O'), ('&amp;', 'O'), ('kamis', 'O'), ('jam', 'O'), ('09', 'O'), (':', 'O'), ('00', 'O'), ('-', 'O')]</td>\n",
       "    </tr>\n",
       "    <tr>\n",
       "      <th>8</th>\n",
       "      <td>[('jl.', 'B-STR'), ('letjen', 'I-STR'), ('m.', 'I-STR'), ('t.', 'I-STR'), ('haryono', 'E-STR'), ('(', 'O'), ('lantai', 'O'), ('13', 'O'), ('),', 'B-POI'), ('wisma', 'E-POI'), ('korindo', 'O'), ('no.', 'O'), ('kav', 'O'), ('62,', 'O'), ('rt.', 'O'), ('2', 'O'), ('rw.', 'O'), ('2,', 'O'), ('pancoran,', 'O')]</td>\n",
       "    </tr>\n",
       "  </tbody>\n",
       "</table>"
      ],
      "text/plain": [
       "<IPython.core.display.HTML object>"
      ]
     },
     "metadata": {},
     "output_type": "display_data"
    }
   ],
   "source": [
    "learn1 = create_learner('bert-base-multilingual-uncased')"
   ]
  },
  {
   "cell_type": "code",
   "execution_count": 40,
   "metadata": {},
   "outputs": [
    {
     "name": "stdout",
     "output_type": "stream",
     "text": [
      "bert\n",
      "<class 'transformers.models.bert.configuration_bert.BertConfig'>\n",
      "<class 'transformers.models.bert.tokenization_bert_fast.BertTokenizerFast'>\n",
      "<class 'transformers.models.bert.modeling_bert.BertForTokenClassification'>\n"
     ]
    },
    {
     "data": {
      "text/html": [
       "<table border=\"1\" class=\"dataframe\">\n",
       "  <thead>\n",
       "    <tr style=\"text-align: right;\">\n",
       "      <th></th>\n",
       "      <th>token / target label</th>\n",
       "    </tr>\n",
       "  </thead>\n",
       "  <tbody>\n",
       "    <tr>\n",
       "      <th>0</th>\n",
       "      <td>[('dusun', 'B-POI'), ('7', 'I-POI'), ('1', 'I-POI'), ('=', 'I-POI'), ('c', 'I-POI'), ('dalam', 'I-POI'), ('patokan', 'I-POI'), ('masuk', 'I-POI'), ('dari', 'I-POI'), ('pasar', 'I-POI'), ('1', 'I-POI'), ('paya', 'E-POI'), ('bakung', 'O'), ('masuk,', 'O'), ('sumber', 'O'), ('melati', 'B-STR'), ('diski', 'I-STR'), ('jl', 'I-STR'), ('imp', 'I-STR'), ('sebe', 'I-STR'), ('mush', 'I-STR'), ('bau', 'I-STR'), ('muk', 'I-STR'), ('di', 'I-STR'), ('ping', 'I-STR'), ('sun', 'I-STR'), ('kecil', 'I-STR'), ('buka', 'I-STR'), ('08.', 'E-STR'), ('00', 'O')]</td>\n",
       "    </tr>\n",
       "    <tr>\n",
       "      <th>1</th>\n",
       "      <td>[('swadaya', 'O'), ('dalam', 'O'), ('no', 'O'), (':', 'O'), ('31', 'O'), ('rt', 'O'), (':', 'O'), ('05', 'O'), ('rw', 'O'), (':', 'O'), ('06', 'O'), ('cawang', 'O'), ('kapling', 'O'), ('-', 'O'), ('tanah', 'O'), ('manisan', 'O'), ('-', 'O'), ('jakarta', 'O'), ('-', 'O'), ('timur', 'O')]</td>\n",
       "    </tr>\n",
       "    <tr>\n",
       "      <th>2</th>\n",
       "      <td>[('baba', 'B-STR'), ('sayu', 'I-STR'), ('gg', 'I-STR'), ('sete', 'I-STR'), ('pasar', 'I-STR'), ('sayung', 'I-STR'), ('dari', 'I-STR'), ('sema', 'I-STR'), ('kanan,', 'E-STR'), ('sayung', 'O'), ('toko', 'B-POI'), ('arsya', 'I-POI'), ('pak', 'I-POI'), ('suwarno', 'I-POI'), ('sayung', 'I-POI'), ('wetan', 'E-POI'), ('rt', 'O'), ('5', 'O'), ('1', 'O'), ('sayung', 'O')]</td>\n",
       "    </tr>\n",
       "    <tr>\n",
       "      <th>3</th>\n",
       "      <td>[('sate', 'B-POI'), ('ayam', 'I-POI'), ('dan', 'I-POI'), ('kambing', 'I-POI'), ('pak', 'I-POI'), ('de', 'I-POI'), ('cabang', 'I-POI'), ('gad', 'I-POI-SHORT'), ('serpong,', 'E-POI'), ('no', 'O'), ('a', 'O'), ('15', 'O'), ('boulevard', 'B-STR'), ('raya', 'I-STR'), ('gad', 'I-STR'), ('serp,', 'E-STR'), ('kelapa', 'O'), ('dua', 'O'), ('kelapa', 'O'), ('dua', 'O')]</td>\n",
       "    </tr>\n",
       "    <tr>\n",
       "      <th>4</th>\n",
       "      <td>[('jl.', 'B-STR'), ('mayor', 'I-STR'), ('salim', 'I-STR'), ('batubara', 'E-STR'), ('d.', 'B-POI'), ('i,', 'E-POI'), ('no.', 'O'), ('6452,', 'O'), ('20', 'O'), ('ilir', 'O'), ('d', 'O'), ('ii,', 'O'), ('kec.', 'O'), ('ilir', 'O'), ('tim.', 'O'), ('i,', 'O'), ('kota', 'O'), ('palembang,', 'O'), ('su', 'O')]</td>\n",
       "    </tr>\n",
       "    <tr>\n",
       "      <th>5</th>\n",
       "      <td>[('blim', 'B-STR'), ('indah', 'I-STR'), ('megah,', 'E-STR'), ('dalam', 'O'), ('pinangsia', 'O'), ('(', 'O'), ('pekerja', 'O'), ('di', 'O'), ('stasiun', 'B-POI'), ('praktek', 'I-POI'), ('dr', 'I-POI'), ('ayling', 'I-POI'), ('sanjaya', 'I-POI'), ('m.', 'I-POI'), ('kes.', 'E-POI'), ('spa,', 'O'), ('yang', 'O'), ('kereta', 'O'), ('ke', 'O')]</td>\n",
       "    </tr>\n",
       "    <tr>\n",
       "      <th>6</th>\n",
       "      <td>[('rawa', 'O'), ('buaya', 'O'), ('ruko', 'O'), ('inter', 'O'), ('kota', 'O'), ('blok', 'O'), (':', 'O'), ('no', 'O'), ('b', 'O'), ('8', 'O'), ('rt', 'O'), ('rw', 'O'), ('07', 'O'), ('09', 'O'), ('sebrang', 'B-POI'), ('gedung', 'E-POI'), ('ot', 'O'), ('samping', 'O'), ('charllie', 'O')]</td>\n",
       "    </tr>\n",
       "    <tr>\n",
       "      <th>7</th>\n",
       "      <td>[('rental', 'B-POI'), ('mobil', 'I-POI'), ('sutikno', 'I-POI'), ('pekarungan', 'E-POI'), ('pekarungan', 'O'), ('nan', 'B-STR'), ('iii,', 'I-STR'), ('gg', 'I-STR'), ('tam', 'I-STR'), ('sari', 'I-STR'), ('suko', 'I-STR'), ('sido', 'I-STR'), ('jawa', 'I-STR'), ('timur', 'I-STR'), ('indo', 'E-STR'), ('rt', 'O'), ('11', 'O'), ('4', 'O'), ('sukodono', 'O')]</td>\n",
       "    </tr>\n",
       "    <tr>\n",
       "      <th>8</th>\n",
       "      <td>[('fairmont', 'O'), ('hotel', 'O'), ('alt', 'B-STR'), ('cibu,', 'E-STR'), ('no.', 'O'), ('8', 'O'), ('gelora', 'O'), ('lechon', 'B-POI'), ('-', 'I-POI'), ('ayam', 'I-POI'), ('guling', 'I-POI'), ('asap', 'E-POI'), ('senayan', 'O'), ('(', 'O'), ('spectrum', 'O'), ('restaurant', 'O'), ('lt.', 'O'), ('2', 'O'), (')', 'O')]</td>\n",
       "    </tr>\n",
       "  </tbody>\n",
       "</table>"
      ],
      "text/plain": [
       "<IPython.core.display.HTML object>"
      ]
     },
     "metadata": {},
     "output_type": "display_data"
    }
   ],
   "source": [
    "learn2 = create_learner('indobenchmark/indobert-large-p1')"
   ]
  },
  {
   "cell_type": "code",
   "execution_count": 41,
   "metadata": {
    "papermill": {
     "duration": 0.614398,
     "end_time": "2021-03-28T19:23:10.987513",
     "exception": false,
     "start_time": "2021-03-28T19:23:10.373115",
     "status": "completed"
    },
    "tags": []
   },
   "outputs": [
    {
     "data": {
      "text/html": [],
      "text/plain": [
       "<IPython.core.display.HTML object>"
      ]
     },
     "metadata": {},
     "output_type": "display_data"
    },
    {
     "data": {
      "text/html": [
       "<table border=\"1\" class=\"dataframe\">\n",
       "  <thead>\n",
       "    <tr style=\"text-align: left;\">\n",
       "      <th>epoch</th>\n",
       "      <th>train_loss</th>\n",
       "      <th>valid_loss</th>\n",
       "      <th>accuracy</th>\n",
       "      <th>precision</th>\n",
       "      <th>recall</th>\n",
       "      <th>f1</th>\n",
       "      <th>time</th>\n",
       "    </tr>\n",
       "  </thead>\n",
       "  <tbody>\n",
       "    <tr>\n",
       "      <td>0</td>\n",
       "      <td>0.851435</td>\n",
       "      <td>0.751384</td>\n",
       "      <td>0.770789</td>\n",
       "      <td>0.503339</td>\n",
       "      <td>0.482569</td>\n",
       "      <td>0.492736</td>\n",
       "      <td>07:51</td>\n",
       "    </tr>\n",
       "    <tr>\n",
       "      <td>1</td>\n",
       "      <td>0.742513</td>\n",
       "      <td>0.650211</td>\n",
       "      <td>0.801814</td>\n",
       "      <td>0.570826</td>\n",
       "      <td>0.547683</td>\n",
       "      <td>0.559015</td>\n",
       "      <td>07:53</td>\n",
       "    </tr>\n",
       "    <tr>\n",
       "      <td>2</td>\n",
       "      <td>0.720546</td>\n",
       "      <td>0.639130</td>\n",
       "      <td>0.804983</td>\n",
       "      <td>0.579691</td>\n",
       "      <td>0.558471</td>\n",
       "      <td>0.568883</td>\n",
       "      <td>07:53</td>\n",
       "    </tr>\n",
       "  </tbody>\n",
       "</table>"
      ],
      "text/plain": [
       "<IPython.core.display.HTML object>"
      ]
     },
     "metadata": {},
     "output_type": "display_data"
    },
    {
     "name": "stderr",
     "output_type": "stream",
     "text": [
      "/home/hieple/.pyenv/versions/3.8.9/envs/ai/lib/python3.8/site-packages/seqeval/metrics/v1.py:57: UndefinedMetricWarning: Recall and F-score are ill-defined and being set to 0.0 in labels with no true samples. Use `zero_division` parameter to control this behavior.\n",
      "  _warn_prf(average, modifier, msg_start, len(result))\n"
     ]
    },
    {
     "data": {
      "text/html": [],
      "text/plain": [
       "<IPython.core.display.HTML object>"
      ]
     },
     "metadata": {},
     "output_type": "display_data"
    },
    {
     "data": {
      "text/html": [
       "<table border=\"1\" class=\"dataframe\">\n",
       "  <thead>\n",
       "    <tr style=\"text-align: left;\">\n",
       "      <th>epoch</th>\n",
       "      <th>train_loss</th>\n",
       "      <th>valid_loss</th>\n",
       "      <th>accuracy</th>\n",
       "      <th>precision</th>\n",
       "      <th>recall</th>\n",
       "      <th>f1</th>\n",
       "      <th>time</th>\n",
       "    </tr>\n",
       "  </thead>\n",
       "  <tbody>\n",
       "    <tr>\n",
       "      <td>0</td>\n",
       "      <td>0.343643</td>\n",
       "      <td>0.348334</td>\n",
       "      <td>0.900514</td>\n",
       "      <td>0.793412</td>\n",
       "      <td>0.759862</td>\n",
       "      <td>0.776274</td>\n",
       "      <td>09:52</td>\n",
       "    </tr>\n",
       "    <tr>\n",
       "      <td>1</td>\n",
       "      <td>0.275388</td>\n",
       "      <td>0.266891</td>\n",
       "      <td>0.925128</td>\n",
       "      <td>0.837645</td>\n",
       "      <td>0.817524</td>\n",
       "      <td>0.827462</td>\n",
       "      <td>09:53</td>\n",
       "    </tr>\n",
       "    <tr>\n",
       "      <td>2</td>\n",
       "      <td>0.225375</td>\n",
       "      <td>0.240027</td>\n",
       "      <td>0.933934</td>\n",
       "      <td>0.860988</td>\n",
       "      <td>0.840697</td>\n",
       "      <td>0.850721</td>\n",
       "      <td>09:56</td>\n",
       "    </tr>\n",
       "    <tr>\n",
       "      <td>3</td>\n",
       "      <td>0.200011</td>\n",
       "      <td>0.228612</td>\n",
       "      <td>0.938526</td>\n",
       "      <td>0.868993</td>\n",
       "      <td>0.852423</td>\n",
       "      <td>0.860628</td>\n",
       "      <td>09:56</td>\n",
       "    </tr>\n",
       "    <tr>\n",
       "      <td>4</td>\n",
       "      <td>0.179506</td>\n",
       "      <td>0.230135</td>\n",
       "      <td>0.939262</td>\n",
       "      <td>0.871446</td>\n",
       "      <td>0.854971</td>\n",
       "      <td>0.863130</td>\n",
       "      <td>09:51</td>\n",
       "    </tr>\n",
       "  </tbody>\n",
       "</table>"
      ],
      "text/plain": [
       "<IPython.core.display.HTML object>"
      ]
     },
     "metadata": {},
     "output_type": "display_data"
    },
    {
     "name": "stdout",
     "output_type": "stream",
     "text": [
      "              precision    recall  f1-score   support\n",
      "\n",
      "         POI       0.91      0.87      0.89     92010\n",
      "   POI-SHORT       0.86      0.84      0.85     26261\n",
      "         STR       0.91      0.85      0.88    110486\n",
      "   STR-SHORT       0.01      0.44      0.02       177\n",
      "\n",
      "   micro avg       0.87      0.85      0.86    228934\n",
      "   macro avg       0.67      0.75      0.66    228934\n",
      "weighted avg       0.90      0.85      0.88    228934\n",
      "\n"
     ]
    },
    {
     "data": {
      "text/plain": [
       "Path('models/bert-base-multi.pth')"
      ]
     },
     "execution_count": 41,
     "metadata": {},
     "output_type": "execute_result"
    },
    {
     "data": {
      "image/png": "[encoded data removed]",
      "text/plain": [
       "<Figure size 432x288 with 1 Axes>"
      ]
     },
     "metadata": {
      "needs_background": "light"
     },
     "output_type": "display_data"
    },
    {
     "data": {
      "image/png": "[encoded data removed]",
      "text/plain": [
       "<Figure size 432x288 with 1 Axes>"
      ]
     },
     "metadata": {
      "needs_background": "light"
     },
     "output_type": "display_data"
    }
   ],
   "source": [
    "train_learner(learn1)\n",
    "learn1.save('bert-base-multi')"
   ]
  },
  {
   "cell_type": "code",
   "execution_count": 42,
   "metadata": {},
   "outputs": [
    {
     "data": {
      "text/html": [],
      "text/plain": [
       "<IPython.core.display.HTML object>"
      ]
     },
     "metadata": {},
     "output_type": "display_data"
    },
    {
     "data": {
      "text/html": [
       "<table border=\"1\" class=\"dataframe\">\n",
       "  <thead>\n",
       "    <tr style=\"text-align: left;\">\n",
       "      <th>epoch</th>\n",
       "      <th>train_loss</th>\n",
       "      <th>valid_loss</th>\n",
       "      <th>accuracy</th>\n",
       "      <th>precision</th>\n",
       "      <th>recall</th>\n",
       "      <th>f1</th>\n",
       "      <th>time</th>\n",
       "    </tr>\n",
       "  </thead>\n",
       "  <tbody>\n",
       "    <tr>\n",
       "      <td>0</td>\n",
       "      <td>0.608691</td>\n",
       "      <td>0.566511</td>\n",
       "      <td>0.829878</td>\n",
       "      <td>0.652160</td>\n",
       "      <td>0.602009</td>\n",
       "      <td>0.626082</td>\n",
       "      <td>12:36</td>\n",
       "    </tr>\n",
       "    <tr>\n",
       "      <td>1</td>\n",
       "      <td>0.531653</td>\n",
       "      <td>0.495688</td>\n",
       "      <td>0.850264</td>\n",
       "      <td>0.690841</td>\n",
       "      <td>0.648729</td>\n",
       "      <td>0.669123</td>\n",
       "      <td>12:36</td>\n",
       "    </tr>\n",
       "    <tr>\n",
       "      <td>2</td>\n",
       "      <td>0.529330</td>\n",
       "      <td>0.487406</td>\n",
       "      <td>0.852623</td>\n",
       "      <td>0.694060</td>\n",
       "      <td>0.653241</td>\n",
       "      <td>0.673032</td>\n",
       "      <td>12:40</td>\n",
       "    </tr>\n",
       "  </tbody>\n",
       "</table>"
      ],
      "text/plain": [
       "<IPython.core.display.HTML object>"
      ]
     },
     "metadata": {},
     "output_type": "display_data"
    },
    {
     "data": {
      "text/html": [],
      "text/plain": [
       "<IPython.core.display.HTML object>"
      ]
     },
     "metadata": {},
     "output_type": "display_data"
    },
    {
     "data": {
      "text/html": [
       "<table border=\"1\" class=\"dataframe\">\n",
       "  <thead>\n",
       "    <tr style=\"text-align: left;\">\n",
       "      <th>epoch</th>\n",
       "      <th>train_loss</th>\n",
       "      <th>valid_loss</th>\n",
       "      <th>accuracy</th>\n",
       "      <th>precision</th>\n",
       "      <th>recall</th>\n",
       "      <th>f1</th>\n",
       "      <th>time</th>\n",
       "    </tr>\n",
       "  </thead>\n",
       "  <tbody>\n",
       "    <tr>\n",
       "      <td>0</td>\n",
       "      <td>0.300729</td>\n",
       "      <td>0.289605</td>\n",
       "      <td>0.918392</td>\n",
       "      <td>0.821403</td>\n",
       "      <td>0.805529</td>\n",
       "      <td>0.813389</td>\n",
       "      <td>17:26</td>\n",
       "    </tr>\n",
       "    <tr>\n",
       "      <td>1</td>\n",
       "      <td>0.253211</td>\n",
       "      <td>0.241862</td>\n",
       "      <td>0.932837</td>\n",
       "      <td>0.859661</td>\n",
       "      <td>0.837465</td>\n",
       "      <td>0.848418</td>\n",
       "      <td>17:29</td>\n",
       "    </tr>\n",
       "    <tr>\n",
       "      <td>2</td>\n",
       "      <td>0.202410</td>\n",
       "      <td>0.219251</td>\n",
       "      <td>0.940598</td>\n",
       "      <td>0.874104</td>\n",
       "      <td>0.862018</td>\n",
       "      <td>0.868019</td>\n",
       "      <td>17:25</td>\n",
       "    </tr>\n",
       "    <tr>\n",
       "      <td>3</td>\n",
       "      <td>0.173180</td>\n",
       "      <td>0.214720</td>\n",
       "      <td>0.943742</td>\n",
       "      <td>0.883997</td>\n",
       "      <td>0.868997</td>\n",
       "      <td>0.876433</td>\n",
       "      <td>17:30</td>\n",
       "    </tr>\n",
       "    <tr>\n",
       "      <td>4</td>\n",
       "      <td>0.151836</td>\n",
       "      <td>0.220291</td>\n",
       "      <td>0.944178</td>\n",
       "      <td>0.885889</td>\n",
       "      <td>0.870259</td>\n",
       "      <td>0.878004</td>\n",
       "      <td>17:27</td>\n",
       "    </tr>\n",
       "  </tbody>\n",
       "</table>"
      ],
      "text/plain": [
       "<IPython.core.display.HTML object>"
      ]
     },
     "metadata": {},
     "output_type": "display_data"
    },
    {
     "name": "stdout",
     "output_type": "stream",
     "text": [
      "              precision    recall  f1-score   support\n",
      "\n",
      "         POI       0.93      0.89      0.91     91628\n",
      "   POI-SHORT       0.89      0.87      0.88     26421\n",
      "         STR       0.91      0.86      0.88    110110\n",
      "   STR-SHORT       0.03      0.48      0.06       481\n",
      "\n",
      "   micro avg       0.89      0.87      0.88    228640\n",
      "   macro avg       0.69      0.77      0.68    228640\n",
      "weighted avg       0.91      0.87      0.89    228640\n",
      "\n"
     ]
    },
    {
     "data": {
      "text/plain": [
       "Path('models/indobert-large-p1.pth')"
      ]
     },
     "execution_count": 42,
     "metadata": {},
     "output_type": "execute_result"
    },
    {
     "data": {
      "image/png": "[encoded data removed]",
      "text/plain": [
       "<Figure size 432x288 with 1 Axes>"
      ]
     },
     "metadata": {
      "needs_background": "light"
     },
     "output_type": "display_data"
    },
    {
     "data": {
      "image/png": "[encoded data removed]",
      "text/plain": [
       "<Figure size 432x288 with 1 Axes>"
      ]
     },
     "metadata": {
      "needs_background": "light"
     },
     "output_type": "display_data"
    }
   ],
   "source": [
    "train_learner(learn2)\n",
    "learn2.save('indobert-large-p1')"
   ]
  },
  {
   "cell_type": "markdown",
   "metadata": {
    "papermill": {
     "duration": 2.014141,
     "end_time": "2021-03-29T01:03:53.471863",
     "exception": false,
     "start_time": "2021-03-29T01:03:51.457722",
     "status": "completed"
    },
    "tags": []
   },
   "source": [
    "# Evaluation\n",
    "- This is only relevant during model selection and testing\n",
    "- For the final training, full dataset is used so the accuracy below doesn't really reflect the power of the model."
   ]
  },
  {
   "cell_type": "code",
   "execution_count": 43,
   "metadata": {},
   "outputs": [],
   "source": [
    "@patch\n",
    "def blurr_predict(self: Learner, items, rm_type_tfms=None):\n",
    "    hf_before_batch_tfm = get_blurr_tfm(self.dls.before_batch)\n",
    "\n",
    "    is_split_str = hf_before_batch_tfm.is_split_into_words and isinstance(items[0], str)\n",
    "    is_df = isinstance(items, pd.DataFrame)\n",
    "\n",
    "    if (not is_df and (is_split_str or not is_listy(items))): items = [items]\n",
    "    dl = self.dls.test_dl(items, rm_type_tfms=rm_type_tfms, num_workers=0)\n",
    "\n",
    "    with self.no_bar():\n",
    "        probs, _, decoded_preds = self.get_preds(dl=dl, with_input=False, with_decoded=True)\n",
    "\n",
    "    trg_tfms = self.dls.tfms[self.dls.n_inp:]\n",
    "\n",
    "    outs = []\n",
    "    probs, decoded_preds = L(probs), L(decoded_preds)\n",
    "    for i in range(len(items)):\n",
    "        item_probs = [probs[i]]\n",
    "        item_dec_preds = [decoded_preds[i]]\n",
    "        item_dec_labels = tuplify([tfm.decode(item_dec_preds[tfm_idx]) for tfm_idx, tfm in enumerate(trg_tfms)])\n",
    "\n",
    "        outs.append((item_dec_labels, item_dec_preds, item_probs))\n",
    "\n",
    "    return outs"
   ]
  },
  {
   "cell_type": "code",
   "execution_count": 44,
   "metadata": {
    "papermill": {
     "duration": 0.606331,
     "end_time": "2021-03-29T01:03:57.334122",
     "exception": false,
     "start_time": "2021-03-29T01:03:56.727791",
     "status": "completed"
    },
    "tags": []
   },
   "outputs": [],
   "source": [
    "from string import punctuation\n",
    "\n",
    "def reconstruct(pred, raw_tokens, raw_address):\n",
    "    def complete_word(x):\n",
    "        y = x.strip().strip(punctuation)\n",
    "        if y != '' and y in wordlist:\n",
    "            x = x.replace(y, wordlist[y])\n",
    "        return x\n",
    "    \n",
    "    def normalize_bracket(x):\n",
    "        if '(' in x and ')' not in x:\n",
    "            x = x + ')'\n",
    "        elif ')' in x and '(' not in x:\n",
    "            x = '(' + x\n",
    "        return x\n",
    "    \n",
    "    num = len(pred)\n",
    "    ans = ['/'] * num\n",
    "    for idx in tqdm(range(num)):\n",
    "        res = pred[idx]\n",
    "        start_poi, end_poi = -1, -1\n",
    "        start_str, end_str = -1, -1\n",
    "        for i in range(len(res[0])):\n",
    "            if 'POI' in res[1][i]:\n",
    "                if start_poi == -1: start_poi = i\n",
    "                end_poi = i\n",
    "            if 'STR' in res[1][i]:\n",
    "                if start_str == -1: start_str = i\n",
    "                end_str = i\n",
    "        \n",
    "        if start_poi != -1:\n",
    "            txt1 = raw_address[idx]\n",
    "            for i in range(start_poi):\n",
    "                txt1 = txt1[len(raw_tokens[idx][i]):].strip()\n",
    "            for i in range(len(raw_tokens[idx]) - 1, end_poi, -1):\n",
    "                txt1 = txt1[:-len(raw_tokens[idx][i])].strip()\n",
    "            \n",
    "            txt1_check = ''.join(raw_tokens[idx][start_poi:end_poi + 1]).replace(' ', '')\n",
    "            assert txt1.replace(' ', '') == txt1_check\n",
    "            \n",
    "            last = len(txt1)\n",
    "            for i in range(end_poi, start_poi - 1, -1):\n",
    "                while last > 0 and txt1[last - 1] == ' ':\n",
    "                    last -= 1\n",
    "                assert last >= len(raw_tokens[idx][i])\n",
    "                last -= len(raw_tokens[idx][i])\n",
    "                if 'SHORT' in res[1][i]:\n",
    "                    txt1 = txt1[:last] + complete_word(raw_tokens[idx][i]) + txt1[last + len(raw_tokens[idx][i]):]\n",
    "        else:\n",
    "            txt1 = ''\n",
    "        \n",
    "        if start_str != -1:\n",
    "            txt2 = raw_address[idx]\n",
    "            for i in range(start_str):\n",
    "                txt2 = txt2[len(raw_tokens[idx][i]):].strip()\n",
    "            for i in range(len(raw_tokens[idx]) - 1, end_str, -1):\n",
    "                txt2 = txt2[:-len(raw_tokens[idx][i])].strip()\n",
    "            \n",
    "            txt2_check = ''.join(raw_tokens[idx][start_str:end_str + 1]).replace(' ', '')\n",
    "            assert txt2.replace(' ', '') == txt2_check\n",
    "            \n",
    "            last = len(txt2)\n",
    "            for i in range(end_str, start_str - 1, -1):\n",
    "                while last > 0 and txt2[last - 1] == ' ':\n",
    "                    last -= 1\n",
    "                assert last >= len(raw_tokens[idx][i])\n",
    "                last -= len(raw_tokens[idx][i])\n",
    "                if 'SHORT' in res[1][i]:\n",
    "                    txt2 = txt2[:last] + complete_word(raw_tokens[idx][i]) + txt2[last + len(raw_tokens[idx][i]):]\n",
    "        else:\n",
    "            txt2 = ''\n",
    "        \n",
    "        txt1 = txt1.strip(punctuation)\n",
    "        txt2 = txt2.strip(punctuation)\n",
    "        txt1 = normalize_bracket(txt1)\n",
    "        txt2 = normalize_bracket(txt2)\n",
    "        \n",
    "        ans[idx] = (txt1 + '/' + txt2)\n",
    "    \n",
    "    return ans"
   ]
  },
  {
   "cell_type": "code",
   "execution_count": 45,
   "metadata": {
    "papermill": {
     "duration": 0.591391,
     "end_time": "2021-03-29T01:04:15.341230",
     "exception": false,
     "start_time": "2021-03-29T01:04:14.749839",
     "status": "completed"
    },
    "tags": []
   },
   "outputs": [],
   "source": [
    "def show_diff(df):\n",
    "    MAX_ROWS = 50\n",
    "    CNT = 0\n",
    "    for idx in range(len(df)):\n",
    "        if CNT == MAX_ROWS: break\n",
    "        row = df.iloc[idx]\n",
    "        if row['POI/street'] != row['pred']:\n",
    "            CNT += 1\n",
    "            print(idx, row['id'], row['POI/street'], 'vs', row['pred'])"
   ]
  },
  {
   "cell_type": "code",
   "execution_count": 46,
   "metadata": {
    "papermill": {
     "duration": 0.860423,
     "end_time": "2021-03-29T01:04:16.774955",
     "exception": false,
     "start_time": "2021-03-29T01:04:15.914532",
     "status": "completed"
    },
    "tags": []
   },
   "outputs": [],
   "source": [
    "def calc_acc(df):\n",
    "    return df.loc[test_df['pred'] == df['POI/street'], 'id'].count() / len(df)"
   ]
  },
  {
   "cell_type": "code",
   "execution_count": 47,
   "metadata": {
    "papermill": {
     "duration": 0.606716,
     "end_time": "2021-03-29T01:04:17.954441",
     "exception": false,
     "start_time": "2021-03-29T01:04:17.347725",
     "status": "completed"
    },
    "tags": []
   },
   "outputs": [],
   "source": [
    "raw_tokens = list(test_df['tokens'])\n",
    "raw_address = list(test_df['raw_address'])"
   ]
  },
  {
   "cell_type": "code",
   "execution_count": 48,
   "metadata": {},
   "outputs": [],
   "source": [
    "assert list(learn1.dls.vocab) == list(learn2.dls.vocab)"
   ]
  },
  {
   "cell_type": "code",
   "execution_count": 49,
   "metadata": {},
   "outputs": [],
   "source": [
    "def merge_pred(pred1, pred2):\n",
    "    assert pred1[0] == pred2[0]\n",
    "    \n",
    "    inp = pred1[0]\n",
    "    probs = pred1[-1] + pred2[-1]\n",
    "    pred_lbl_ids = probs.argmax(dim=1)\n",
    "    pred_lbl = learn1.dls.vocab[pred_lbl_ids]\n",
    "    \n",
    "    return (inp, pred_lbl, pred_lbl_ids, probs)"
   ]
  },
  {
   "cell_type": "code",
   "execution_count": 50,
   "metadata": {
    "papermill": {
     "duration": 167.276128,
     "end_time": "2021-03-29T01:07:05.802898",
     "exception": false,
     "start_time": "2021-03-29T01:04:18.526770",
     "status": "completed"
    },
    "tags": []
   },
   "outputs": [],
   "source": [
    "raw_pred1 = learn1.blurr_predict_tokens(raw_tokens)\n",
    "raw_pred2 = learn2.blurr_predict_tokens(raw_tokens)\n",
    "raw_pred = [merge_pred(x, y) for x, y in zip(raw_pred1, raw_pred2)]"
   ]
  },
  {
   "cell_type": "code",
   "execution_count": 51,
   "metadata": {
    "papermill": {
     "duration": 2.099563,
     "end_time": "2021-03-29T01:07:08.482771",
     "exception": false,
     "start_time": "2021-03-29T01:07:06.383208",
     "status": "completed"
    },
    "tags": []
   },
   "outputs": [
    {
     "name": "stderr",
     "output_type": "stream",
     "text": [
      "100%|██████████| 45000/45000 [00:00<00:00, 79142.56it/s]\n",
      "100%|██████████| 45000/45000 [00:00<00:00, 80484.04it/s]\n",
      "100%|██████████| 45000/45000 [00:00<00:00, 80357.05it/s]\n"
     ]
    }
   ],
   "source": [
    "pred1 = reconstruct(raw_pred1, raw_tokens, raw_address)\n",
    "pred2 = reconstruct(raw_pred2, raw_tokens, raw_address)\n",
    "pred = reconstruct(raw_pred, raw_tokens, raw_address)"
   ]
  },
  {
   "cell_type": "code",
   "execution_count": 52,
   "metadata": {
    "papermill": {
     "duration": 0.601296,
     "end_time": "2021-03-29T01:07:09.664799",
     "exception": false,
     "start_time": "2021-03-29T01:07:09.063503",
     "status": "completed"
    },
    "tags": []
   },
   "outputs": [
    {
     "data": {
      "text/plain": [
       "0.7263111111111111"
      ]
     },
     "execution_count": 52,
     "metadata": {},
     "output_type": "execute_result"
    }
   ],
   "source": [
    "test_df['pred'] = pred1\n",
    "test_df.head()\n",
    "calc_acc(test_df)"
   ]
  },
  {
   "cell_type": "code",
   "execution_count": 53,
   "metadata": {},
   "outputs": [
    {
     "data": {
      "text/plain": [
       "0.7435111111111111"
      ]
     },
     "execution_count": 53,
     "metadata": {},
     "output_type": "execute_result"
    }
   ],
   "source": [
    "test_df['pred'] = pred2\n",
    "test_df.head()\n",
    "calc_acc(test_df)"
   ]
  },
  {
   "cell_type": "code",
   "execution_count": 54,
   "metadata": {},
   "outputs": [
    {
     "data": {
      "text/plain": [
       "0.7417555555555555"
      ]
     },
     "execution_count": 54,
     "metadata": {},
     "output_type": "execute_result"
    }
   ],
   "source": [
    "test_df['pred'] = pred\n",
    "test_df.head()\n",
    "calc_acc(test_df)"
   ]
  },
  {
   "cell_type": "code",
   "execution_count": 55,
   "metadata": {
    "papermill": {
     "duration": 0.612294,
     "end_time": "2021-03-29T01:07:10.861134",
     "exception": false,
     "start_time": "2021-03-29T01:07:10.248840",
     "status": "completed"
    },
    "tags": []
   },
   "outputs": [
    {
     "name": "stdout",
     "output_type": "stream",
     "text": [
      "0 90142 / vs /lom\n",
      "1 163531 / vs varia usaha ungaran/peri kem\n",
      "3 126157 wardah gorden/srik ton vs wardah goreng/srik ton\n",
      "5 229731 parfum ila/ vs ila/par\n",
      "14 211733 /malik ibrahim vs /malik ibra\n",
      "15 291526 pt. bandung kulina utama/gede bage selatan vs pt. bandung kulkas utama/gede bage sela\n",
      "18 224230 /raya kertajaya vs /raya kerta\n",
      "19 36383 sabang merah/ vs taman sabang merah/\n",
      "21 257507 / vs toko yuni/\n",
      "22 227444 farlis listrik/jepara- vs farlis listrik/jepara\n",
      "23 284364 / vs agen sosis bakar om black/\n",
      "27 14510 / vs fitria jaya taylor/karya\n",
      "28 19521 /mentor vs /men\n",
      "30 298204 /puri depok mas vs /puri\n",
      "31 291158 /poncowati vs /ponco\n",
      "33 218256 perpustakaan wisma damai/tanjung ged vs perpustakaan wisma damai/tanj ged\n",
      "34 290927 / vs /raya maluk\n",
      "39 4009 /rawa sari vs /rawa sari, rawa sari\n",
      "41 212697 /palem raya vs /palem raya 1\n",
      "43 288688 bebek harissa & soto w/boulevard vs bebek hariyono & soto w/boule\n",
      "45 194417 /caw baru ten vs padang/caw baru ten\n",
      "50 114194 depan lotte mart/jalan kadrie oening vs  depan lotte mart/jalan kadrie oening\n",
      "54 294462 smp negeri 1 berbah/ vs smp negeri 1 berkah/\n",
      "55 44934 / vs /setro bari utara i\n",
      "57 232212 /gatot subroto 2 vs /gatot subr 2\n",
      "58 41241 pengurus ranting partai demokrasi indonesia perjuangan/budi utomo vs penggil ranting partai demokrasi indonesia perjuangan/budi utomo\n",
      "59 116074 / vs /angs 2\n",
      "61 42215 tpu/tanjungpur pangk susu vs tpu/tanjun pangk susu\n",
      "66 293193 pt kobame karya indonesia/ vs pt kobasu karya indonesia/\n",
      "71 135167 / vs /kri\n",
      "78 49928 /malabar iii vs /mala iii\n",
      "85 246823 /mampang prap raya vs /mamp prap raya\n",
      "86 84997 kompek green yakin/jl. a yani vs komang green yakin/jl. a yani\n",
      "88 257554 smpn 53/ vs /smpn 53\n",
      "97 191089 / vs rusnia/saba\n",
      "100 97010 guru bk kampar/ vs guru bk kampus/\n",
      "102 193157 / vs /beli darat\n",
      "104 38421 / vs /kh has ash\n",
      "105 5362 misnen/raya ciga vs mister/raya ciga\n",
      "118 3045 batik lwang wentar/ vs batik lwang wendit/\n",
      "121 52642 / vs /setia i\n",
      "123 18464 / vs bukit tiban selaras/\n",
      "126 91730 / vs /sam ratul\n",
      "127 105219 / vs /kali anyar iii\n",
      "128 290879 mrt business university/k h wahid hasyim vs mrt business universitas/k h wahid has\n",
      "137 114241 / vs /gg. h.ro\n",
      "139 196509 sd negeri karanglo/ vs sd negeri karaoke/\n",
      "147 187445 kp.ranca paray/ vs ranca paray/\n",
      "151 91534 brilink triyono/cibareb vs brilink triyono/ciba\n",
      "162 284202 atm bca, mall season city lantai ug, dekat/profe dok latum vs atm bca, mall sea city lantai ug, dekat/profe dok latum\n"
     ]
    }
   ],
   "source": [
    "show_diff(test_df)"
   ]
  },
  {
   "cell_type": "markdown",
   "metadata": {
    "papermill": {
     "duration": 0.575803,
     "end_time": "2021-03-29T01:07:13.587236",
     "exception": false,
     "start_time": "2021-03-29T01:07:13.011433",
     "status": "completed"
    },
    "tags": []
   },
   "source": [
    "# Submission"
   ]
  },
  {
   "cell_type": "code",
   "execution_count": 56,
   "metadata": {
    "papermill": {
     "duration": 1.844808,
     "end_time": "2021-03-29T01:07:16.033037",
     "exception": false,
     "start_time": "2021-03-29T01:07:14.188229",
     "status": "completed"
    },
    "tags": []
   },
   "outputs": [
    {
     "data": {
      "text/html": [
       "<div>\n",
       "<style scoped>\n",
       "    .dataframe tbody tr th:only-of-type {\n",
       "        vertical-align: middle;\n",
       "    }\n",
       "\n",
       "    .dataframe tbody tr th {\n",
       "        vertical-align: top;\n",
       "    }\n",
       "\n",
       "    .dataframe thead th {\n",
       "        text-align: right;\n",
       "    }\n",
       "</style>\n",
       "<table border=\"1\" class=\"dataframe\">\n",
       "  <thead>\n",
       "    <tr style=\"text-align: right;\">\n",
       "      <th></th>\n",
       "      <th>id</th>\n",
       "      <th>raw_address</th>\n",
       "      <th>tokens</th>\n",
       "    </tr>\n",
       "  </thead>\n",
       "  <tbody>\n",
       "    <tr>\n",
       "      <th>0</th>\n",
       "      <td>0</td>\n",
       "      <td>s. par 53 sidanegara 4 cilacap tengah</td>\n",
       "      <td>[s., par, 53, sidanegara, 4, cilacap, tengah]</td>\n",
       "    </tr>\n",
       "    <tr>\n",
       "      <th>1</th>\n",
       "      <td>1</td>\n",
       "      <td>angg per, baloi indah kel. lubuk baja</td>\n",
       "      <td>[angg, per,, baloi, indah, kel., lubuk, baja]</td>\n",
       "    </tr>\n",
       "    <tr>\n",
       "      <th>2</th>\n",
       "      <td>2</td>\n",
       "      <td>asma laun, mand imog,</td>\n",
       "      <td>[asma, laun,, mand, imog,]</td>\n",
       "    </tr>\n",
       "    <tr>\n",
       "      <th>3</th>\n",
       "      <td>3</td>\n",
       "      <td>ud agung rej, raya nga sri wedari karanganyar</td>\n",
       "      <td>[ud, agung, rej,, raya, nga, sri, wedari, karanganyar]</td>\n",
       "    </tr>\n",
       "    <tr>\n",
       "      <th>4</th>\n",
       "      <td>4</td>\n",
       "      <td>cut mutia, 35 baiturrahman</td>\n",
       "      <td>[cut, mutia,, 35, baiturrahman]</td>\n",
       "    </tr>\n",
       "  </tbody>\n",
       "</table>\n",
       "</div>"
      ],
      "text/plain": [
       "   id                                    raw_address  \\\n",
       "0   0          s. par 53 sidanegara 4 cilacap tengah   \n",
       "1   1          angg per, baloi indah kel. lubuk baja   \n",
       "2   2                          asma laun, mand imog,   \n",
       "3   3  ud agung rej, raya nga sri wedari karanganyar   \n",
       "4   4                     cut mutia, 35 baiturrahman   \n",
       "\n",
       "                                                   tokens  \n",
       "0           [s., par, 53, sidanegara, 4, cilacap, tengah]  \n",
       "1           [angg, per,, baloi, indah, kel., lubuk, baja]  \n",
       "2                              [asma, laun,, mand, imog,]  \n",
       "3  [ud, agung, rej,, raya, nga, sri, wedari, karanganyar]  \n",
       "4                         [cut, mutia,, 35, baiturrahman]  "
      ]
     },
     "execution_count": 56,
     "metadata": {},
     "output_type": "execute_result"
    }
   ],
   "source": [
    "real_test_df = pd.read_csv('data/test.csv')\n",
    "real_test_df['raw_address'] = real_test_df['raw_address'].apply(lambda x: x.strip())\n",
    "real_test_df['tokens'] = real_test_df['raw_address'].apply(clean).str.split()\n",
    "real_test_df.head()"
   ]
  },
  {
   "cell_type": "code",
   "execution_count": 57,
   "metadata": {
    "papermill": {
     "duration": 0.597235,
     "end_time": "2021-03-29T01:07:17.204390",
     "exception": false,
     "start_time": "2021-03-29T01:07:16.607155",
     "status": "completed"
    },
    "tags": []
   },
   "outputs": [],
   "source": [
    "raw_tokens = list(real_test_df['tokens'])\n",
    "raw_address = list(real_test_df['raw_address'])"
   ]
  },
  {
   "cell_type": "code",
   "execution_count": 58,
   "metadata": {
    "papermill": {
     "duration": 187.046917,
     "end_time": "2021-03-29T01:10:24.845512",
     "exception": false,
     "start_time": "2021-03-29T01:07:17.798595",
     "status": "completed"
    },
    "tags": []
   },
   "outputs": [],
   "source": [
    "raw_pred1 = learn1.blurr_predict_tokens(raw_tokens)\n",
    "raw_pred2 = learn2.blurr_predict_tokens(raw_tokens)\n",
    "raw_pred = [merge_pred(x, y) for x, y in zip(raw_pred1, raw_pred2)]"
   ]
  },
  {
   "cell_type": "code",
   "execution_count": 59,
   "metadata": {},
   "outputs": [
    {
     "name": "stderr",
     "output_type": "stream",
     "text": [
      "100%|██████████| 50000/50000 [00:00<00:00, 80450.52it/s]\n",
      "100%|██████████| 50000/50000 [00:00<00:00, 81340.73it/s]\n",
      "100%|██████████| 50000/50000 [00:00<00:00, 81274.19it/s]\n"
     ]
    }
   ],
   "source": [
    "pred1 = reconstruct(raw_pred1, raw_tokens, raw_address)\n",
    "pred2 = reconstruct(raw_pred2, raw_tokens, raw_address)\n",
    "pred = reconstruct(raw_pred, raw_tokens, raw_address)"
   ]
  },
  {
   "cell_type": "code",
   "execution_count": 60,
   "metadata": {
    "papermill": {
     "duration": 2.232372,
     "end_time": "2021-03-29T01:10:27.654990",
     "exception": false,
     "start_time": "2021-03-29T01:10:25.422618",
     "status": "completed"
    },
    "tags": []
   },
   "outputs": [],
   "source": [
    "real_test_df['POI/street'] = pred"
   ]
  },
  {
   "cell_type": "code",
   "execution_count": 61,
   "metadata": {
    "papermill": {
     "duration": 0.595508,
     "end_time": "2021-03-29T01:10:28.826194",
     "exception": false,
     "start_time": "2021-03-29T01:10:28.230686",
     "status": "completed"
    },
    "tags": []
   },
   "outputs": [
    {
     "data": {
      "text/html": [
       "<div>\n",
       "<style scoped>\n",
       "    .dataframe tbody tr th:only-of-type {\n",
       "        vertical-align: middle;\n",
       "    }\n",
       "\n",
       "    .dataframe tbody tr th {\n",
       "        vertical-align: top;\n",
       "    }\n",
       "\n",
       "    .dataframe thead th {\n",
       "        text-align: right;\n",
       "    }\n",
       "</style>\n",
       "<table border=\"1\" class=\"dataframe\">\n",
       "  <thead>\n",
       "    <tr style=\"text-align: right;\">\n",
       "      <th></th>\n",
       "      <th>id</th>\n",
       "      <th>POI/street</th>\n",
       "    </tr>\n",
       "  </thead>\n",
       "  <tbody>\n",
       "    <tr>\n",
       "      <th>0</th>\n",
       "      <td>0</td>\n",
       "      <td>/s. par</td>\n",
       "    </tr>\n",
       "    <tr>\n",
       "      <th>1</th>\n",
       "      <td>1</td>\n",
       "      <td>/angg per</td>\n",
       "    </tr>\n",
       "    <tr>\n",
       "      <th>2</th>\n",
       "      <td>2</td>\n",
       "      <td>asma laundry/mand imog</td>\n",
       "    </tr>\n",
       "    <tr>\n",
       "      <th>3</th>\n",
       "      <td>3</td>\n",
       "      <td>ud agung rejeki/raya nga</td>\n",
       "    </tr>\n",
       "    <tr>\n",
       "      <th>4</th>\n",
       "      <td>4</td>\n",
       "      <td>/cut mutia</td>\n",
       "    </tr>\n",
       "  </tbody>\n",
       "</table>\n",
       "</div>"
      ],
      "text/plain": [
       "   id                POI/street\n",
       "0   0                   /s. par\n",
       "1   1                 /angg per\n",
       "2   2    asma laundry/mand imog\n",
       "3   3  ud agung rejeki/raya nga\n",
       "4   4                /cut mutia"
      ]
     },
     "execution_count": 61,
     "metadata": {},
     "output_type": "execute_result"
    }
   ],
   "source": [
    "real_test_df.drop(columns=['raw_address', 'tokens'], inplace=True)\n",
    "real_test_df.head()"
   ]
  },
  {
   "cell_type": "code",
   "execution_count": 62,
   "metadata": {
    "papermill": {
     "duration": 0.877988,
     "end_time": "2021-03-29T01:10:30.284599",
     "exception": false,
     "start_time": "2021-03-29T01:10:29.406611",
     "status": "completed"
    },
    "tags": []
   },
   "outputs": [],
   "source": [
    "real_test_df.to_csv('submission.csv', index=False)"
   ]
  }
 ],
 "metadata": {
  "kernelspec": {
   "display_name": "Python 3",
   "language": "python",
   "name": "python3"
  },
  "language_info": {
   "codemirror_mode": {
    "name": "ipython",
    "version": 3
   },
   "file_extension": ".py",
   "mimetype": "text/x-python",
   "name": "python",
   "nbconvert_exporter": "python",
   "pygments_lexer": "ipython3",
   "version": "3.8.9"
  },
  "papermill": {
   "default_parameters": {},
   "duration": 21952.674588,
   "end_time": "2021-03-29T01:10:37.672515",
   "environment_variables": {},
   "exception": null,
   "input_path": "__notebook__.ipynb",
   "output_path": "__notebook__.ipynb",
   "parameters": {},
   "start_time": "2021-03-28T19:04:44.997927",
   "version": "2.2.2"
  },
  "widgets": {
   "application/vnd.jupyter.widget-state+json": {
    "state": {
     "04d1da5026904c3fad7d154ec93b57d6": {
      "model_module": "@jupyter-widgets/base",
      "model_module_version": "1.2.0",
      "model_name": "LayoutModel",
      "state": {
       "_model_module": "@jupyter-widgets/base",
       "_model_module_version": "1.2.0",
       "_model_name": "LayoutModel",
       "_view_count": null,
       "_view_module": "@jupyter-widgets/base",
       "_view_module_version": "1.2.0",
       "_view_name": "LayoutView",
       "align_content": null,
       "align_items": null,
       "align_self": null,
       "border": null,
       "bottom": null,
       "display": null,
       "flex": null,
       "flex_flow": null,
       "grid_area": null,
       "grid_auto_columns": null,
       "grid_auto_flow": null,
       "grid_auto_rows": null,
       "grid_column": null,
       "grid_gap": null,
       "grid_row": null,
       "grid_template_areas": null,
       "grid_template_columns": null,
       "grid_template_rows": null,
       "height": null,
       "justify_content": null,
       "justify_items": null,
       "left": null,
       "margin": null,
       "max_height": null,
       "max_width": null,
       "min_height": null,
       "min_width": null,
       "object_fit": null,
       "object_position": null,
       "order": null,
       "overflow": null,
       "overflow_x": null,
       "overflow_y": null,
       "padding": null,
       "right": null,
       "top": null,
       "visibility": null,
       "width": null
      }
     },
     "0597edc0ccf8409dba50053dab2cf92d": {
      "model_module": "@jupyter-widgets/controls",
      "model_module_version": "1.5.0",
      "model_name": "ProgressStyleModel",
      "state": {
       "_model_module": "@jupyter-widgets/controls",
       "_model_module_version": "1.5.0",
       "_model_name": "ProgressStyleModel",
       "_view_count": null,
       "_view_module": "@jupyter-widgets/base",
       "_view_module_version": "1.2.0",
       "_view_name": "StyleView",
       "bar_color": null,
       "description_width": "initial"
      }
     },
     "06d40e0fb3074ec785aaa9e70c2ca156": {
      "model_module": "@jupyter-widgets/base",
      "model_module_version": "1.2.0",
      "model_name": "LayoutModel",
      "state": {
       "_model_module": "@jupyter-widgets/base",
       "_model_module_version": "1.2.0",
       "_model_name": "LayoutModel",
       "_view_count": null,
       "_view_module": "@jupyter-widgets/base",
       "_view_module_version": "1.2.0",
       "_view_name": "LayoutView",
       "align_content": null,
       "align_items": null,
       "align_self": null,
       "border": null,
       "bottom": null,
       "display": null,
       "flex": null,
       "flex_flow": null,
       "grid_area": null,
       "grid_auto_columns": null,
       "grid_auto_flow": null,
       "grid_auto_rows": null,
       "grid_column": null,
       "grid_gap": null,
       "grid_row": null,
       "grid_template_areas": null,
       "grid_template_columns": null,
       "grid_template_rows": null,
       "height": null,
       "justify_content": null,
       "justify_items": null,
       "left": null,
       "margin": null,
       "max_height": null,
       "max_width": null,
       "min_height": null,
       "min_width": null,
       "object_fit": null,
       "object_position": null,
       "order": null,
       "overflow": null,
       "overflow_x": null,
       "overflow_y": null,
       "padding": null,
       "right": null,
       "top": null,
       "visibility": null,
       "width": null
      }
     },
     "0930fe3b92f2455fbe3a14a6484ce461": {
      "model_module": "@jupyter-widgets/controls",
      "model_module_version": "1.5.0",
      "model_name": "DescriptionStyleModel",
      "state": {
       "_model_module": "@jupyter-widgets/controls",
       "_model_module_version": "1.5.0",
       "_model_name": "DescriptionStyleModel",
       "_view_count": null,
       "_view_module": "@jupyter-widgets/base",
       "_view_module_version": "1.2.0",
       "_view_name": "StyleView",
       "description_width": ""
      }
     },
     "0e93bc7415f848efb96387f06c9967f8": {
      "model_module": "@jupyter-widgets/controls",
      "model_module_version": "1.5.0",
      "model_name": "ProgressStyleModel",
      "state": {
       "_model_module": "@jupyter-widgets/controls",
       "_model_module_version": "1.5.0",
       "_model_name": "ProgressStyleModel",
       "_view_count": null,
       "_view_module": "@jupyter-widgets/base",
       "_view_module_version": "1.2.0",
       "_view_name": "StyleView",
       "bar_color": null,
       "description_width": "initial"
      }
     },
     "2172be3434424298a5ec5441c0c7c065": {
      "model_module": "@jupyter-widgets/base",
      "model_module_version": "1.2.0",
      "model_name": "LayoutModel",
      "state": {
       "_model_module": "@jupyter-widgets/base",
       "_model_module_version": "1.2.0",
       "_model_name": "LayoutModel",
       "_view_count": null,
       "_view_module": "@jupyter-widgets/base",
       "_view_module_version": "1.2.0",
       "_view_name": "LayoutView",
       "align_content": null,
       "align_items": null,
       "align_self": null,
       "border": null,
       "bottom": null,
       "display": null,
       "flex": null,
       "flex_flow": null,
       "grid_area": null,
       "grid_auto_columns": null,
       "grid_auto_flow": null,
       "grid_auto_rows": null,
       "grid_column": null,
       "grid_gap": null,
       "grid_row": null,
       "grid_template_areas": null,
       "grid_template_columns": null,
       "grid_template_rows": null,
       "height": null,
       "justify_content": null,
       "justify_items": null,
       "left": null,
       "margin": null,
       "max_height": null,
       "max_width": null,
       "min_height": null,
       "min_width": null,
       "object_fit": null,
       "object_position": null,
       "order": null,
       "overflow": null,
       "overflow_x": null,
       "overflow_y": null,
       "padding": null,
       "right": null,
       "top": null,
       "visibility": null,
       "width": null
      }
     },
     "31a8f8f1c73c4ccb9578d6b2bfc8a3e4": {
      "model_module": "@jupyter-widgets/controls",
      "model_module_version": "1.5.0",
      "model_name": "ProgressStyleModel",
      "state": {
       "_model_module": "@jupyter-widgets/controls",
       "_model_module_version": "1.5.0",
       "_model_name": "ProgressStyleModel",
       "_view_count": null,
       "_view_module": "@jupyter-widgets/base",
       "_view_module_version": "1.2.0",
       "_view_name": "StyleView",
       "bar_color": null,
       "description_width": "initial"
      }
     },
     "37389ffd18d24cc9a7cc469d1358df77": {
      "model_module": "@jupyter-widgets/controls",
      "model_module_version": "1.5.0",
      "model_name": "DescriptionStyleModel",
      "state": {
       "_model_module": "@jupyter-widgets/controls",
       "_model_module_version": "1.5.0",
       "_model_name": "DescriptionStyleModel",
       "_view_count": null,
       "_view_module": "@jupyter-widgets/base",
       "_view_module_version": "1.2.0",
       "_view_name": "StyleView",
       "description_width": ""
      }
     },
     "3ced55802c404f51acf8c677154d0444": {
      "model_module": "@jupyter-widgets/base",
      "model_module_version": "1.2.0",
      "model_name": "LayoutModel",
      "state": {
       "_model_module": "@jupyter-widgets/base",
       "_model_module_version": "1.2.0",
       "_model_name": "LayoutModel",
       "_view_count": null,
       "_view_module": "@jupyter-widgets/base",
       "_view_module_version": "1.2.0",
       "_view_name": "LayoutView",
       "align_content": null,
       "align_items": null,
       "align_self": null,
       "border": null,
       "bottom": null,
       "display": null,
       "flex": null,
       "flex_flow": null,
       "grid_area": null,
       "grid_auto_columns": null,
       "grid_auto_flow": null,
       "grid_auto_rows": null,
       "grid_column": null,
       "grid_gap": null,
       "grid_row": null,
       "grid_template_areas": null,
       "grid_template_columns": null,
       "grid_template_rows": null,
       "height": null,
       "justify_content": null,
       "justify_items": null,
       "left": null,
       "margin": null,
       "max_height": null,
       "max_width": null,
       "min_height": null,
       "min_width": null,
       "object_fit": null,
       "object_position": null,
       "order": null,
       "overflow": null,
       "overflow_x": null,
       "overflow_y": null,
       "padding": null,
       "right": null,
       "top": null,
       "visibility": null,
       "width": null
      }
     },
     "43dd3e2cf4614f268793ec6623e4c706": {
      "model_module": "@jupyter-widgets/controls",
      "model_module_version": "1.5.0",
      "model_name": "HBoxModel",
      "state": {
       "_dom_classes": [],
       "_model_module": "@jupyter-widgets/controls",
       "_model_module_version": "1.5.0",
       "_model_name": "HBoxModel",
       "_view_count": null,
       "_view_module": "@jupyter-widgets/controls",
       "_view_module_version": "1.5.0",
       "_view_name": "HBoxView",
       "box_style": "",
       "children": [
        "IPY_MODEL_f65e774614b44cc78d26b649812f8081",
        "IPY_MODEL_f585cd54f05044ce9bb3707afee90a8c"
       ],
       "layout": "IPY_MODEL_ae77e62e1b4044dbb1b8844ebd1fe40b"
      }
     },
     "52c9065a989e47cd94b46e13a2c9e2f3": {
      "model_module": "@jupyter-widgets/controls",
      "model_module_version": "1.5.0",
      "model_name": "HBoxModel",
      "state": {
       "_dom_classes": [],
       "_model_module": "@jupyter-widgets/controls",
       "_model_module_version": "1.5.0",
       "_model_name": "HBoxModel",
       "_view_count": null,
       "_view_module": "@jupyter-widgets/controls",
       "_view_module_version": "1.5.0",
       "_view_name": "HBoxView",
       "box_style": "",
       "children": [
        "IPY_MODEL_c94f8e4d54f54d2aa095024aa27bec04",
        "IPY_MODEL_be8e49b788ea48b5a366852446e550c2"
       ],
       "layout": "IPY_MODEL_66ad81d750b5486ba4ee2f9291d394e6"
      }
     },
     "538218dcd6d74f9b9493adacf806198c": {
      "model_module": "@jupyter-widgets/base",
      "model_module_version": "1.2.0",
      "model_name": "LayoutModel",
      "state": {
       "_model_module": "@jupyter-widgets/base",
       "_model_module_version": "1.2.0",
       "_model_name": "LayoutModel",
       "_view_count": null,
       "_view_module": "@jupyter-widgets/base",
       "_view_module_version": "1.2.0",
       "_view_name": "LayoutView",
       "align_content": null,
       "align_items": null,
       "align_self": null,
       "border": null,
       "bottom": null,
       "display": null,
       "flex": null,
       "flex_flow": null,
       "grid_area": null,
       "grid_auto_columns": null,
       "grid_auto_flow": null,
       "grid_auto_rows": null,
       "grid_column": null,
       "grid_gap": null,
       "grid_row": null,
       "grid_template_areas": null,
       "grid_template_columns": null,
       "grid_template_rows": null,
       "height": null,
       "justify_content": null,
       "justify_items": null,
       "left": null,
       "margin": null,
       "max_height": null,
       "max_width": null,
       "min_height": null,
       "min_width": null,
       "object_fit": null,
       "object_position": null,
       "order": null,
       "overflow": null,
       "overflow_x": null,
       "overflow_y": null,
       "padding": null,
       "right": null,
       "top": null,
       "visibility": null,
       "width": null
      }
     },
     "57e4c72e3f9644c8bd969ccb46d2c695": {
      "model_module": "@jupyter-widgets/controls",
      "model_module_version": "1.5.0",
      "model_name": "FloatProgressModel",
      "state": {
       "_dom_classes": [],
       "_model_module": "@jupyter-widgets/controls",
       "_model_module_version": "1.5.0",
       "_model_name": "FloatProgressModel",
       "_view_count": null,
       "_view_module": "@jupyter-widgets/controls",
       "_view_module_version": "1.5.0",
       "_view_name": "ProgressView",
       "bar_style": "success",
       "description": "Downloading: 100%",
       "description_tooltip": null,
       "layout": "IPY_MODEL_a6f5f8c5f6b948a3a34ff5d0d526c959",
       "max": 2,
       "min": 0,
       "orientation": "horizontal",
       "style": "IPY_MODEL_0e93bc7415f848efb96387f06c9967f8",
       "value": 2
      }
     },
     "66ad81d750b5486ba4ee2f9291d394e6": {
      "model_module": "@jupyter-widgets/base",
      "model_module_version": "1.2.0",
      "model_name": "LayoutModel",
      "state": {
       "_model_module": "@jupyter-widgets/base",
       "_model_module_version": "1.2.0",
       "_model_name": "LayoutModel",
       "_view_count": null,
       "_view_module": "@jupyter-widgets/base",
       "_view_module_version": "1.2.0",
       "_view_name": "LayoutView",
       "align_content": null,
       "align_items": null,
       "align_self": null,
       "border": null,
       "bottom": null,
       "display": null,
       "flex": null,
       "flex_flow": null,
       "grid_area": null,
       "grid_auto_columns": null,
       "grid_auto_flow": null,
       "grid_auto_rows": null,
       "grid_column": null,
       "grid_gap": null,
       "grid_row": null,
       "grid_template_areas": null,
       "grid_template_columns": null,
       "grid_template_rows": null,
       "height": null,
       "justify_content": null,
       "justify_items": null,
       "left": null,
       "margin": null,
       "max_height": null,
       "max_width": null,
       "min_height": null,
       "min_width": null,
       "object_fit": null,
       "object_position": null,
       "order": null,
       "overflow": null,
       "overflow_x": null,
       "overflow_y": null,
       "padding": null,
       "right": null,
       "top": null,
       "visibility": null,
       "width": null
      }
     },
     "6be89ceacd0149cba52b8d9f37192b2f": {
      "model_module": "@jupyter-widgets/controls",
      "model_module_version": "1.5.0",
      "model_name": "DescriptionStyleModel",
      "state": {
       "_model_module": "@jupyter-widgets/controls",
       "_model_module_version": "1.5.0",
       "_model_name": "DescriptionStyleModel",
       "_view_count": null,
       "_view_module": "@jupyter-widgets/base",
       "_view_module_version": "1.2.0",
       "_view_name": "StyleView",
       "description_width": ""
      }
     },
     "7eb26924c149477f9fe13f94f8562eb0": {
      "model_module": "@jupyter-widgets/base",
      "model_module_version": "1.2.0",
      "model_name": "LayoutModel",
      "state": {
       "_model_module": "@jupyter-widgets/base",
       "_model_module_version": "1.2.0",
       "_model_name": "LayoutModel",
       "_view_count": null,
       "_view_module": "@jupyter-widgets/base",
       "_view_module_version": "1.2.0",
       "_view_name": "LayoutView",
       "align_content": null,
       "align_items": null,
       "align_self": null,
       "border": null,
       "bottom": null,
       "display": null,
       "flex": null,
       "flex_flow": null,
       "grid_area": null,
       "grid_auto_columns": null,
       "grid_auto_flow": null,
       "grid_auto_rows": null,
       "grid_column": null,
       "grid_gap": null,
       "grid_row": null,
       "grid_template_areas": null,
       "grid_template_columns": null,
       "grid_template_rows": null,
       "height": null,
       "justify_content": null,
       "justify_items": null,
       "left": null,
       "margin": null,
       "max_height": null,
       "max_width": null,
       "min_height": null,
       "min_width": null,
       "object_fit": null,
       "object_position": null,
       "order": null,
       "overflow": null,
       "overflow_x": null,
       "overflow_y": null,
       "padding": null,
       "right": null,
       "top": null,
       "visibility": null,
       "width": null
      }
     },
     "887339e0eb3a476fbfdb3d5021cdaf6a": {
      "model_module": "@jupyter-widgets/base",
      "model_module_version": "1.2.0",
      "model_name": "LayoutModel",
      "state": {
       "_model_module": "@jupyter-widgets/base",
       "_model_module_version": "1.2.0",
       "_model_name": "LayoutModel",
       "_view_count": null,
       "_view_module": "@jupyter-widgets/base",
       "_view_module_version": "1.2.0",
       "_view_name": "LayoutView",
       "align_content": null,
       "align_items": null,
       "align_self": null,
       "border": null,
       "bottom": null,
       "display": null,
       "flex": null,
       "flex_flow": null,
       "grid_area": null,
       "grid_auto_columns": null,
       "grid_auto_flow": null,
       "grid_auto_rows": null,
       "grid_column": null,
       "grid_gap": null,
       "grid_row": null,
       "grid_template_areas": null,
       "grid_template_columns": null,
       "grid_template_rows": null,
       "height": null,
       "justify_content": null,
       "justify_items": null,
       "left": null,
       "margin": null,
       "max_height": null,
       "max_width": null,
       "min_height": null,
       "min_width": null,
       "object_fit": null,
       "object_position": null,
       "order": null,
       "overflow": null,
       "overflow_x": null,
       "overflow_y": null,
       "padding": null,
       "right": null,
       "top": null,
       "visibility": null,
       "width": null
      }
     },
     "8f402061bf6746f3b491fdc6a69abb75": {
      "model_module": "@jupyter-widgets/controls",
      "model_module_version": "1.5.0",
      "model_name": "HTMLModel",
      "state": {
       "_dom_classes": [],
       "_model_module": "@jupyter-widgets/controls",
       "_model_module_version": "1.5.0",
       "_model_name": "HTMLModel",
       "_view_count": null,
       "_view_module": "@jupyter-widgets/controls",
       "_view_module_version": "1.5.0",
       "_view_name": "HTMLView",
       "description": "",
       "description_tooltip": null,
       "layout": "IPY_MODEL_06d40e0fb3074ec785aaa9e70c2ca156",
       "placeholder": "​",
       "style": "IPY_MODEL_37389ffd18d24cc9a7cc469d1358df77",
       "value": " 1.34G/1.34G [01:13&lt;00:00, 18.1MB/s]"
      }
     },
     "951be55b056d47f3853f4dcd3b9f7198": {
      "model_module": "@jupyter-widgets/controls",
      "model_module_version": "1.5.0",
      "model_name": "HTMLModel",
      "state": {
       "_dom_classes": [],
       "_model_module": "@jupyter-widgets/controls",
       "_model_module_version": "1.5.0",
       "_model_name": "HTMLModel",
       "_view_count": null,
       "_view_module": "@jupyter-widgets/controls",
       "_view_module_version": "1.5.0",
       "_view_name": "HTMLView",
       "description": "",
       "description_tooltip": null,
       "layout": "IPY_MODEL_e44165ee720748a882959b83e203d05d",
       "placeholder": "​",
       "style": "IPY_MODEL_b042845ee2394d19b9ac36f614f3ca6d",
       "value": " 2.00/2.00 [00:00&lt;00:00, 39.3B/s]"
      }
     },
     "9e8d4c8f779d4fc1b088deee9b5f8c37": {
      "model_module": "@jupyter-widgets/controls",
      "model_module_version": "1.5.0",
      "model_name": "ProgressStyleModel",
      "state": {
       "_model_module": "@jupyter-widgets/controls",
       "_model_module_version": "1.5.0",
       "_model_name": "ProgressStyleModel",
       "_view_count": null,
       "_view_module": "@jupyter-widgets/base",
       "_view_module_version": "1.2.0",
       "_view_name": "StyleView",
       "bar_color": null,
       "description_width": "initial"
      }
     },
     "a61cbbd7b4f5403994b23b429d310b67": {
      "model_module": "@jupyter-widgets/controls",
      "model_module_version": "1.5.0",
      "model_name": "HBoxModel",
      "state": {
       "_dom_classes": [],
       "_model_module": "@jupyter-widgets/controls",
       "_model_module_version": "1.5.0",
       "_model_name": "HBoxModel",
       "_view_count": null,
       "_view_module": "@jupyter-widgets/controls",
       "_view_module_version": "1.5.0",
       "_view_name": "HBoxView",
       "box_style": "",
       "children": [
        "IPY_MODEL_ad25bcfe55114f3b998a1308581d2d80",
        "IPY_MODEL_8f402061bf6746f3b491fdc6a69abb75"
       ],
       "layout": "IPY_MODEL_887339e0eb3a476fbfdb3d5021cdaf6a"
      }
     },
     "a6f5f8c5f6b948a3a34ff5d0d526c959": {
      "model_module": "@jupyter-widgets/base",
      "model_module_version": "1.2.0",
      "model_name": "LayoutModel",
      "state": {
       "_model_module": "@jupyter-widgets/base",
       "_model_module_version": "1.2.0",
       "_model_name": "LayoutModel",
       "_view_count": null,
       "_view_module": "@jupyter-widgets/base",
       "_view_module_version": "1.2.0",
       "_view_name": "LayoutView",
       "align_content": null,
       "align_items": null,
       "align_self": null,
       "border": null,
       "bottom": null,
       "display": null,
       "flex": null,
       "flex_flow": null,
       "grid_area": null,
       "grid_auto_columns": null,
       "grid_auto_flow": null,
       "grid_auto_rows": null,
       "grid_column": null,
       "grid_gap": null,
       "grid_row": null,
       "grid_template_areas": null,
       "grid_template_columns": null,
       "grid_template_rows": null,
       "height": null,
       "justify_content": null,
       "justify_items": null,
       "left": null,
       "margin": null,
       "max_height": null,
       "max_width": null,
       "min_height": null,
       "min_width": null,
       "object_fit": null,
       "object_position": null,
       "order": null,
       "overflow": null,
       "overflow_x": null,
       "overflow_y": null,
       "padding": null,
       "right": null,
       "top": null,
       "visibility": null,
       "width": null
      }
     },
     "ace634eac72340c2a65c0b9b608972a3": {
      "model_module": "@jupyter-widgets/controls",
      "model_module_version": "1.5.0",
      "model_name": "HBoxModel",
      "state": {
       "_dom_classes": [],
       "_model_module": "@jupyter-widgets/controls",
       "_model_module_version": "1.5.0",
       "_model_name": "HBoxModel",
       "_view_count": null,
       "_view_module": "@jupyter-widgets/controls",
       "_view_module_version": "1.5.0",
       "_view_name": "HBoxView",
       "box_style": "",
       "children": [
        "IPY_MODEL_57e4c72e3f9644c8bd969ccb46d2c695",
        "IPY_MODEL_951be55b056d47f3853f4dcd3b9f7198"
       ],
       "layout": "IPY_MODEL_3ced55802c404f51acf8c677154d0444"
      }
     },
     "ad25bcfe55114f3b998a1308581d2d80": {
      "model_module": "@jupyter-widgets/controls",
      "model_module_version": "1.5.0",
      "model_name": "FloatProgressModel",
      "state": {
       "_dom_classes": [],
       "_model_module": "@jupyter-widgets/controls",
       "_model_module_version": "1.5.0",
       "_model_name": "FloatProgressModel",
       "_view_count": null,
       "_view_module": "@jupyter-widgets/controls",
       "_view_module_version": "1.5.0",
       "_view_name": "ProgressView",
       "bar_style": "success",
       "description": "Downloading: 100%",
       "description_tooltip": null,
       "layout": "IPY_MODEL_538218dcd6d74f9b9493adacf806198c",
       "max": 1340657204,
       "min": 0,
       "orientation": "horizontal",
       "style": "IPY_MODEL_c8602b4e12404901b372eeaa5731daff",
       "value": 1340657204
      }
     },
     "ae77e62e1b4044dbb1b8844ebd1fe40b": {
      "model_module": "@jupyter-widgets/base",
      "model_module_version": "1.2.0",
      "model_name": "LayoutModel",
      "state": {
       "_model_module": "@jupyter-widgets/base",
       "_model_module_version": "1.2.0",
       "_model_name": "LayoutModel",
       "_view_count": null,
       "_view_module": "@jupyter-widgets/base",
       "_view_module_version": "1.2.0",
       "_view_name": "LayoutView",
       "align_content": null,
       "align_items": null,
       "align_self": null,
       "border": null,
       "bottom": null,
       "display": null,
       "flex": null,
       "flex_flow": null,
       "grid_area": null,
       "grid_auto_columns": null,
       "grid_auto_flow": null,
       "grid_auto_rows": null,
       "grid_column": null,
       "grid_gap": null,
       "grid_row": null,
       "grid_template_areas": null,
       "grid_template_columns": null,
       "grid_template_rows": null,
       "height": null,
       "justify_content": null,
       "justify_items": null,
       "left": null,
       "margin": null,
       "max_height": null,
       "max_width": null,
       "min_height": null,
       "min_width": null,
       "object_fit": null,
       "object_position": null,
       "order": null,
       "overflow": null,
       "overflow_x": null,
       "overflow_y": null,
       "padding": null,
       "right": null,
       "top": null,
       "visibility": null,
       "width": null
      }
     },
     "b042845ee2394d19b9ac36f614f3ca6d": {
      "model_module": "@jupyter-widgets/controls",
      "model_module_version": "1.5.0",
      "model_name": "DescriptionStyleModel",
      "state": {
       "_model_module": "@jupyter-widgets/controls",
       "_model_module_version": "1.5.0",
       "_model_name": "DescriptionStyleModel",
       "_view_count": null,
       "_view_module": "@jupyter-widgets/base",
       "_view_module_version": "1.2.0",
       "_view_name": "StyleView",
       "description_width": ""
      }
     },
     "b5e450a7f4b2429bba5063ded6eea14b": {
      "model_module": "@jupyter-widgets/controls",
      "model_module_version": "1.5.0",
      "model_name": "HTMLModel",
      "state": {
       "_dom_classes": [],
       "_model_module": "@jupyter-widgets/controls",
       "_model_module_version": "1.5.0",
       "_model_name": "HTMLModel",
       "_view_count": null,
       "_view_module": "@jupyter-widgets/controls",
       "_view_module_version": "1.5.0",
       "_view_name": "HTMLView",
       "description": "",
       "description_tooltip": null,
       "layout": "IPY_MODEL_2172be3434424298a5ec5441c0c7c065",
       "placeholder": "​",
       "style": "IPY_MODEL_f849da88debe4386ba194400b22c9bc7",
       "value": " 1.53k/1.53k [00:02&lt;00:00, 687B/s]"
      }
     },
     "ba25818556fb4f9c9c53132b48fcea9d": {
      "model_module": "@jupyter-widgets/base",
      "model_module_version": "1.2.0",
      "model_name": "LayoutModel",
      "state": {
       "_model_module": "@jupyter-widgets/base",
       "_model_module_version": "1.2.0",
       "_model_name": "LayoutModel",
       "_view_count": null,
       "_view_module": "@jupyter-widgets/base",
       "_view_module_version": "1.2.0",
       "_view_name": "LayoutView",
       "align_content": null,
       "align_items": null,
       "align_self": null,
       "border": null,
       "bottom": null,
       "display": null,
       "flex": null,
       "flex_flow": null,
       "grid_area": null,
       "grid_auto_columns": null,
       "grid_auto_flow": null,
       "grid_auto_rows": null,
       "grid_column": null,
       "grid_gap": null,
       "grid_row": null,
       "grid_template_areas": null,
       "grid_template_columns": null,
       "grid_template_rows": null,
       "height": null,
       "justify_content": null,
       "justify_items": null,
       "left": null,
       "margin": null,
       "max_height": null,
       "max_width": null,
       "min_height": null,
       "min_width": null,
       "object_fit": null,
       "object_position": null,
       "order": null,
       "overflow": null,
       "overflow_x": null,
       "overflow_y": null,
       "padding": null,
       "right": null,
       "top": null,
       "visibility": null,
       "width": null
      }
     },
     "be0a0ffd8f054b1dbec09c5c79aa00d5": {
      "model_module": "@jupyter-widgets/base",
      "model_module_version": "1.2.0",
      "model_name": "LayoutModel",
      "state": {
       "_model_module": "@jupyter-widgets/base",
       "_model_module_version": "1.2.0",
       "_model_name": "LayoutModel",
       "_view_count": null,
       "_view_module": "@jupyter-widgets/base",
       "_view_module_version": "1.2.0",
       "_view_name": "LayoutView",
       "align_content": null,
       "align_items": null,
       "align_self": null,
       "border": null,
       "bottom": null,
       "display": null,
       "flex": null,
       "flex_flow": null,
       "grid_area": null,
       "grid_auto_columns": null,
       "grid_auto_flow": null,
       "grid_auto_rows": null,
       "grid_column": null,
       "grid_gap": null,
       "grid_row": null,
       "grid_template_areas": null,
       "grid_template_columns": null,
       "grid_template_rows": null,
       "height": null,
       "justify_content": null,
       "justify_items": null,
       "left": null,
       "margin": null,
       "max_height": null,
       "max_width": null,
       "min_height": null,
       "min_width": null,
       "object_fit": null,
       "object_position": null,
       "order": null,
       "overflow": null,
       "overflow_x": null,
       "overflow_y": null,
       "padding": null,
       "right": null,
       "top": null,
       "visibility": null,
       "width": null
      }
     },
     "be8e49b788ea48b5a366852446e550c2": {
      "model_module": "@jupyter-widgets/controls",
      "model_module_version": "1.5.0",
      "model_name": "HTMLModel",
      "state": {
       "_dom_classes": [],
       "_model_module": "@jupyter-widgets/controls",
       "_model_module_version": "1.5.0",
       "_model_name": "HTMLModel",
       "_view_count": null,
       "_view_module": "@jupyter-widgets/controls",
       "_view_module_version": "1.5.0",
       "_view_name": "HTMLView",
       "description": "",
       "description_tooltip": null,
       "layout": "IPY_MODEL_be0a0ffd8f054b1dbec09c5c79aa00d5",
       "placeholder": "​",
       "style": "IPY_MODEL_0930fe3b92f2455fbe3a14a6484ce461",
       "value": " 229k/229k [00:05&lt;00:00, 43.9kB/s]"
      }
     },
     "c8602b4e12404901b372eeaa5731daff": {
      "model_module": "@jupyter-widgets/controls",
      "model_module_version": "1.5.0",
      "model_name": "ProgressStyleModel",
      "state": {
       "_model_module": "@jupyter-widgets/controls",
       "_model_module_version": "1.5.0",
       "_model_name": "ProgressStyleModel",
       "_view_count": null,
       "_view_module": "@jupyter-widgets/base",
       "_view_module_version": "1.2.0",
       "_view_name": "StyleView",
       "bar_color": null,
       "description_width": "initial"
      }
     },
     "c94f8e4d54f54d2aa095024aa27bec04": {
      "model_module": "@jupyter-widgets/controls",
      "model_module_version": "1.5.0",
      "model_name": "FloatProgressModel",
      "state": {
       "_dom_classes": [],
       "_model_module": "@jupyter-widgets/controls",
       "_model_module_version": "1.5.0",
       "_model_name": "FloatProgressModel",
       "_view_count": null,
       "_view_module": "@jupyter-widgets/controls",
       "_view_module_version": "1.5.0",
       "_view_name": "ProgressView",
       "bar_style": "success",
       "description": "Downloading: 100%",
       "description_tooltip": null,
       "layout": "IPY_MODEL_d9cc921b77ba48fa8d972630b10bea80",
       "max": 229167,
       "min": 0,
       "orientation": "horizontal",
       "style": "IPY_MODEL_9e8d4c8f779d4fc1b088deee9b5f8c37",
       "value": 229167
      }
     },
     "d2f11159db44451f96b33659c211d745": {
      "model_module": "@jupyter-widgets/base",
      "model_module_version": "1.2.0",
      "model_name": "LayoutModel",
      "state": {
       "_model_module": "@jupyter-widgets/base",
       "_model_module_version": "1.2.0",
       "_model_name": "LayoutModel",
       "_view_count": null,
       "_view_module": "@jupyter-widgets/base",
       "_view_module_version": "1.2.0",
       "_view_name": "LayoutView",
       "align_content": null,
       "align_items": null,
       "align_self": null,
       "border": null,
       "bottom": null,
       "display": null,
       "flex": null,
       "flex_flow": null,
       "grid_area": null,
       "grid_auto_columns": null,
       "grid_auto_flow": null,
       "grid_auto_rows": null,
       "grid_column": null,
       "grid_gap": null,
       "grid_row": null,
       "grid_template_areas": null,
       "grid_template_columns": null,
       "grid_template_rows": null,
       "height": null,
       "justify_content": null,
       "justify_items": null,
       "left": null,
       "margin": null,
       "max_height": null,
       "max_width": null,
       "min_height": null,
       "min_width": null,
       "object_fit": null,
       "object_position": null,
       "order": null,
       "overflow": null,
       "overflow_x": null,
       "overflow_y": null,
       "padding": null,
       "right": null,
       "top": null,
       "visibility": null,
       "width": null
      }
     },
     "d9cc921b77ba48fa8d972630b10bea80": {
      "model_module": "@jupyter-widgets/base",
      "model_module_version": "1.2.0",
      "model_name": "LayoutModel",
      "state": {
       "_model_module": "@jupyter-widgets/base",
       "_model_module_version": "1.2.0",
       "_model_name": "LayoutModel",
       "_view_count": null,
       "_view_module": "@jupyter-widgets/base",
       "_view_module_version": "1.2.0",
       "_view_name": "LayoutView",
       "align_content": null,
       "align_items": null,
       "align_self": null,
       "border": null,
       "bottom": null,
       "display": null,
       "flex": null,
       "flex_flow": null,
       "grid_area": null,
       "grid_auto_columns": null,
       "grid_auto_flow": null,
       "grid_auto_rows": null,
       "grid_column": null,
       "grid_gap": null,
       "grid_row": null,
       "grid_template_areas": null,
       "grid_template_columns": null,
       "grid_template_rows": null,
       "height": null,
       "justify_content": null,
       "justify_items": null,
       "left": null,
       "margin": null,
       "max_height": null,
       "max_width": null,
       "min_height": null,
       "min_width": null,
       "object_fit": null,
       "object_position": null,
       "order": null,
       "overflow": null,
       "overflow_x": null,
       "overflow_y": null,
       "padding": null,
       "right": null,
       "top": null,
       "visibility": null,
       "width": null
      }
     },
     "e0bcbf4f606a4694977b1e5c9d9ce6da": {
      "model_module": "@jupyter-widgets/controls",
      "model_module_version": "1.5.0",
      "model_name": "FloatProgressModel",
      "state": {
       "_dom_classes": [],
       "_model_module": "@jupyter-widgets/controls",
       "_model_module_version": "1.5.0",
       "_model_name": "FloatProgressModel",
       "_view_count": null,
       "_view_module": "@jupyter-widgets/controls",
       "_view_module_version": "1.5.0",
       "_view_name": "ProgressView",
       "bar_style": "success",
       "description": "Downloading: 100%",
       "description_tooltip": null,
       "layout": "IPY_MODEL_04d1da5026904c3fad7d154ec93b57d6",
       "max": 1535,
       "min": 0,
       "orientation": "horizontal",
       "style": "IPY_MODEL_0597edc0ccf8409dba50053dab2cf92d",
       "value": 1535
      }
     },
     "e44165ee720748a882959b83e203d05d": {
      "model_module": "@jupyter-widgets/base",
      "model_module_version": "1.2.0",
      "model_name": "LayoutModel",
      "state": {
       "_model_module": "@jupyter-widgets/base",
       "_model_module_version": "1.2.0",
       "_model_name": "LayoutModel",
       "_view_count": null,
       "_view_module": "@jupyter-widgets/base",
       "_view_module_version": "1.2.0",
       "_view_name": "LayoutView",
       "align_content": null,
       "align_items": null,
       "align_self": null,
       "border": null,
       "bottom": null,
       "display": null,
       "flex": null,
       "flex_flow": null,
       "grid_area": null,
       "grid_auto_columns": null,
       "grid_auto_flow": null,
       "grid_auto_rows": null,
       "grid_column": null,
       "grid_gap": null,
       "grid_row": null,
       "grid_template_areas": null,
       "grid_template_columns": null,
       "grid_template_rows": null,
       "height": null,
       "justify_content": null,
       "justify_items": null,
       "left": null,
       "margin": null,
       "max_height": null,
       "max_width": null,
       "min_height": null,
       "min_width": null,
       "object_fit": null,
       "object_position": null,
       "order": null,
       "overflow": null,
       "overflow_x": null,
       "overflow_y": null,
       "padding": null,
       "right": null,
       "top": null,
       "visibility": null,
       "width": null
      }
     },
     "f585cd54f05044ce9bb3707afee90a8c": {
      "model_module": "@jupyter-widgets/controls",
      "model_module_version": "1.5.0",
      "model_name": "HTMLModel",
      "state": {
       "_dom_classes": [],
       "_model_module": "@jupyter-widgets/controls",
       "_model_module_version": "1.5.0",
       "_model_name": "HTMLModel",
       "_view_count": null,
       "_view_module": "@jupyter-widgets/controls",
       "_view_module_version": "1.5.0",
       "_view_name": "HTMLView",
       "description": "",
       "description_tooltip": null,
       "layout": "IPY_MODEL_7eb26924c149477f9fe13f94f8562eb0",
       "placeholder": "​",
       "style": "IPY_MODEL_6be89ceacd0149cba52b8d9f37192b2f",
       "value": " 112/112 [00:01&lt;00:00, 71.8B/s]"
      }
     },
     "f65e774614b44cc78d26b649812f8081": {
      "model_module": "@jupyter-widgets/controls",
      "model_module_version": "1.5.0",
      "model_name": "FloatProgressModel",
      "state": {
       "_dom_classes": [],
       "_model_module": "@jupyter-widgets/controls",
       "_model_module_version": "1.5.0",
       "_model_name": "FloatProgressModel",
       "_view_count": null,
       "_view_module": "@jupyter-widgets/controls",
       "_view_module_version": "1.5.0",
       "_view_name": "ProgressView",
       "bar_style": "success",
       "description": "Downloading: 100%",
       "description_tooltip": null,
       "layout": "IPY_MODEL_d2f11159db44451f96b33659c211d745",
       "max": 112,
       "min": 0,
       "orientation": "horizontal",
       "style": "IPY_MODEL_31a8f8f1c73c4ccb9578d6b2bfc8a3e4",
       "value": 112
      }
     },
     "f6f0d74f9e6a41afae48c9473ab85a4e": {
      "model_module": "@jupyter-widgets/controls",
      "model_module_version": "1.5.0",
      "model_name": "HBoxModel",
      "state": {
       "_dom_classes": [],
       "_model_module": "@jupyter-widgets/controls",
       "_model_module_version": "1.5.0",
       "_model_name": "HBoxModel",
       "_view_count": null,
       "_view_module": "@jupyter-widgets/controls",
       "_view_module_version": "1.5.0",
       "_view_name": "HBoxView",
       "box_style": "",
       "children": [
        "IPY_MODEL_e0bcbf4f606a4694977b1e5c9d9ce6da",
        "IPY_MODEL_b5e450a7f4b2429bba5063ded6eea14b"
       ],
       "layout": "IPY_MODEL_ba25818556fb4f9c9c53132b48fcea9d"
      }
     },
     "f849da88debe4386ba194400b22c9bc7": {
      "model_module": "@jupyter-widgets/controls",
      "model_module_version": "1.5.0",
      "model_name": "DescriptionStyleModel",
      "state": {
       "_model_module": "@jupyter-widgets/controls",
       "_model_module_version": "1.5.0",
       "_model_name": "DescriptionStyleModel",
       "_view_count": null,
       "_view_module": "@jupyter-widgets/base",
       "_view_module_version": "1.2.0",
       "_view_name": "StyleView",
       "description_width": ""
      }
     }
    },
    "version_major": 2,
    "version_minor": 0
   }
  }
 },
 "nbformat": 4,
 "nbformat_minor": 4
}
